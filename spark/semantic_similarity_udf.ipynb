{
 "cells": [
  {
   "cell_type": "code",
   "execution_count": 1,
   "metadata": {
    "collapsed": true
   },
   "outputs": [],
   "source": [
    "from pyspark.sql import SparkSession\n",
    "from pyspark.sql.types import *\n",
    "from pyspark.sql.functions import udf\n",
    "from pyspark.sql import Row\n",
    "import pandas as pd\n",
    "import itertools\n",
    "from pyspark.sql.functions import col"
   ]
  },
  {
   "cell_type": "markdown",
   "metadata": {},
   "source": [
    "### Read concept ancestor file\n",
    "#### Convert the string into int datatype and find the direct_child_parent dataframe"
   ]
  },
  {
   "cell_type": "code",
   "execution_count": null,
   "metadata": {
    "collapsed": true
   },
   "outputs": [],
   "source": [
    "concept_ancestor = concept_ancestor.withColumn(\"ancestor_concept_id\", concept_ancestor[\"ancestor_concept_id\"].cast(IntegerType()))\n",
    "concept_ancestor = concept_ancestor.withColumn(\"descendant_concept_id\", concept_ancestor[\"descendant_concept_id\"].cast(IntegerType()))\n",
    "concept_ancestor = concept_ancestor.withColumn(\"min_levels_of_separation\", concept_ancestor[\"min_levels_of_separation\"].cast(IntegerType()))\n",
    "concept_ancestor = concept_ancestor.withColumn(\"max_levels_of_separation\", concept_ancestor[\"max_levels_of_separation\"].cast(IntegerType()))"
   ]
  },
  {
   "cell_type": "code",
   "execution_count": null,
   "metadata": {
    "collapsed": true
   },
   "outputs": [],
   "source": [
    "direct_child_parent_df = concept_ancestor.where(\"min_levels_of_separation=1\").rdd.map(lambda r: (r[1], r[0])).groupByKey().collectAsMap()"
   ]
  },
  {
   "cell_type": "markdown",
   "metadata": {},
   "source": [
    "### Define the functions  "
   ]
  },
  {
   "cell_type": "code",
   "execution_count": 2,
   "metadata": {
    "collapsed": true
   },
   "outputs": [],
   "source": [
    "def recur_connect_path_bottom_up(concept_id, direct_child_parent_df):\n",
    "    node_paths = []\n",
    "    if concept_id in direct_child_parent_df:\n",
    "        for parent_concept_id in direct_child_parent_df[concept_id]:\n",
    "            parent_node_paths = recur_connect_path_bottom_up(parent_concept_id, direct_child_parent_df)\n",
    "            \n",
    "            if len(parent_node_paths) == 0:\n",
    "                node_paths.append(str(parent_concept_id) + '.' + str(concept_id))\n",
    "            for parent_node_path in parent_node_paths:\n",
    "                node_paths.append(str(parent_node_path) + '.' + str(concept_id))\n",
    "    return node_paths"
   ]
  },
  {
   "cell_type": "code",
   "execution_count": 3,
   "metadata": {
    "collapsed": true
   },
   "outputs": [],
   "source": [
    "def calculate_sim(node_path_1, node_path_2):\n",
    "    \n",
    "    node_path_1_ids = node_path_1.split(\".\")\n",
    "    node_path_2_ids = node_path_2.split(\".\")\n",
    "    max_iter = max(len(node_path_1_ids), len(node_path_2_ids))\n",
    "    \n",
    "    shared_distance = 0\n",
    "    \n",
    "    for i in range(max_iter): #0-8\n",
    "        if (len(node_path_1_ids) > i) & (len(node_path_2_ids) > i):\n",
    "            if node_path_1_ids[i] != node_path_2_ids[i]:\n",
    "                break\n",
    "            shared_distance += 1\n",
    "    return (shared_distance * 2) / (len(node_path_1_ids) + len(node_path_2_ids))"
   ]
  },
  {
   "cell_type": "code",
   "execution_count": 4,
   "metadata": {
    "collapsed": true
   },
   "outputs": [],
   "source": [
    "def calculate_pairwise_sim(node_paths_1, node_paths_2):\n",
    "    max_score = 0\n",
    "    best_node_path_1 = ''\n",
    "    best_node_path_2 = ''\n",
    "    if (len(node_paths_1)!=0) & (len(node_paths_2)!=0):\n",
    "        for node_path_1 in node_paths_1:\n",
    "            for node_path_2 in node_paths_2:\n",
    "                score = calculate_sim(node_path_1, node_path_2)\n",
    "                if max_score < score:\n",
    "                    max_score = score\n",
    "                    best_node_path_1 = node_path_1\n",
    "                    best_node_path_2 = node_path_2\n",
    "    return (max_score, best_node_path_1, best_node_path_2)"
   ]
  },
  {
   "cell_type": "markdown",
   "metadata": {},
   "source": [
    "### Create the udf for semantic similarity calculation "
   ]
  },
  {
   "cell_type": "code",
   "execution_count": 5,
   "metadata": {
    "collapsed": true
   },
   "outputs": [],
   "source": [
    "semantic_score = udf(lambda x,y: calculate_pairwise_sim(recur_connect_path_bottom_up(x, direct_child_parent_df),  \\\n",
    "                 recur_connect_path_bottom_up(y, direct_child_parent_df))[0], FloatType())"
   ]
  },
  {
   "cell_type": "markdown",
   "metadata": {},
   "source": [
    "### Run the udf\n",
    "#### df is the dataframe with two columns: concept_id_1 and concept_id_2\n",
    "#### Or you can parse the two concepts into the semantic_score udf"
   ]
  },
  {
   "cell_type": "code",
   "execution_count": null,
   "metadata": {
    "collapsed": true
   },
   "outputs": [],
   "source": [
    "df.select(\"concept_id_1\", \"concept_id_2\", semantic_score('concept_id_1','concept_id_2').alias('semantic_score')).show()"
   ]
  }
 ],
 "metadata": {
  "kernelspec": {
   "display_name": "Python [Root]",
   "language": "python",
   "name": "Python [Root]"
  },
  "language_info": {
   "codemirror_mode": {
    "name": "ipython",
    "version": 3
   },
   "file_extension": ".py",
   "mimetype": "text/x-python",
   "name": "python",
   "nbconvert_exporter": "python",
   "pygments_lexer": "ipython3",
   "version": "3.5.2"
  }
 },
 "nbformat": 4,
 "nbformat_minor": 2
}
