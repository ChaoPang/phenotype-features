{
 "cells": [
  {
   "cell_type": "code",
   "execution_count": 12,
   "metadata": {
    "collapsed": false
   },
   "outputs": [],
   "source": [
    "from fuzzywuzzy import fuzz\n",
    "from pyspark.sql.types import IntegerType, DoubleType\n",
    "from pyspark.sql.functions import udf\n",
    "from Levenshtein import distance, ratio, jaro, jaro_winkler\n",
    "from fuzzywuzzy import fuzz\n",
    "from pyspark.sql.functions import udf"
   ]
  },
  {
   "cell_type": "markdown",
   "metadata": {},
   "source": [
    "#### Levenshtein distance - minimum number of single character edits\n",
    "#### Levenshtein ratio - similarity of two strings\n",
    "#### Jaro - similarity score\n",
    "#### Jaro-winkler - similarity score, which favors strings that match prefix from the beginning\n",
    "#### fuzz partial ratio - gives a score based on how well parts of a string match another"
   ]
  },
  {
   "cell_type": "code",
   "execution_count": 21,
   "metadata": {
    "collapsed": true
   },
   "outputs": [],
   "source": [
    "def fuzz_partial_ratio(concept1, concept2):\n",
    "    return fuzz.partial_ratio(concept1, concept2) / 100\n",
    "distance_udf = udf(lambda x, y: distance(x,y), IntegerType())\n",
    "ratio_udf = udf(lambda x, y: ratio(x,y), DoubleType())\n",
    "jaro_udf = udf(lambda x, y: jaro(x,y), DoubleType())\n",
    "jaro_winkler_udf = udf(lambda x, y: jaro_winkler(x,y), DoubleType())\n",
    "fuzz_partial_ratio_udf = udf(lambda x, y: fuzz_partial_ratio(x,y), DoubleType())"
   ]
  },
  {
   "cell_type": "code",
   "execution_count": 16,
   "metadata": {
    "collapsed": false
   },
   "outputs": [],
   "source": [
    "phemlsample = spark.read \\\n",
    "    .option(\"header\", \"true\") \\\n",
    "    .option(\"delimiter\", \",\") \\\n",
    "    .csv(\"file:/Users/xinzhuojiang/phenotype-features/pheMLSamplerefset.csv\")"
   ]
  },
  {
   "cell_type": "code",
   "execution_count": 29,
   "metadata": {
    "collapsed": false
   },
   "outputs": [],
   "source": [
    "df = phemlsample.withColumn('distance', distance_udf('CONCEPT_ID_1', 'CONCEPT_ID_2')) \\\n",
    ".withColumn('ratio', ratio_udf('CONCEPT_ID_1', 'CONCEPT_ID_2')) \\\n",
    ".withColumn('jaro', jaro_udf('CONCEPT_ID_1', 'CONCEPT_ID_2')) \\\n",
    ".withColumn('jaro_wrinkler_udf', jaro_winkler_udf('CONCEPT_ID_1', 'CONCEPT_ID_2')) \\\n",
    ".withColumn('fuzz_partial_ratio', fuzz_partial_ratio_udf('CONCEPT_ID_1', 'CONCEPT_ID_2'))"
   ]
  },
  {
   "cell_type": "code",
   "execution_count": 30,
   "metadata": {
    "collapsed": true
   },
   "outputs": [],
   "source": [
    "df.repartition(1).write.option('header', 'true').csv('lexical_udf')"
   ]
  }
 ],
 "metadata": {
  "anaconda-cloud": {},
  "kernelspec": {
   "display_name": "Python [Root]",
   "language": "python",
   "name": "Python [Root]"
  },
  "language_info": {
   "codemirror_mode": {
    "name": "ipython",
    "version": 3
   },
   "file_extension": ".py",
   "mimetype": "text/x-python",
   "name": "python",
   "nbconvert_exporter": "python",
   "pygments_lexer": "ipython3",
   "version": "3.5.2"
  }
 },
 "nbformat": 4,
 "nbformat_minor": 2
}
