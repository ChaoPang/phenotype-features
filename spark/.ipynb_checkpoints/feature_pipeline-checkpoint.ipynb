{
 "cells": [
  {
   "cell_type": "code",
   "execution_count": 14,
   "metadata": {},
   "outputs": [],
   "source": [
    "from pyspark.sql import SparkSession\n",
    "from pyspark.sql.functions import col\n",
    "from pyspark.sql.window import Window\n",
    "from features.feature import *\n",
    "from features.lexical_similarity_feature import *\n",
    "from features.semantic_sim_feature import *\n",
    "from features.embedding_feature import *\n",
    "from features.cooccurrence_feature import *\n",
    "from features.information_content_feature import *\n",
    "import configparser\n",
    "import os"
   ]
  },
  {
   "cell_type": "code",
   "execution_count": 18,
   "metadata": {},
   "outputs": [],
   "source": [
    "config = configparser.ConfigParser()\n",
    "config.read(\"resource_property_file.ini\")\n",
    "properties = config.defaults()\n",
    "resource_folder = os.path.join(properties[\"resource_folder\"], '')"
   ]
  },
  {
   "cell_type": "markdown",
   "metadata": {},
   "source": [
    "## Load the training example"
   ]
  },
  {
   "cell_type": "code",
   "execution_count": 13,
   "metadata": {},
   "outputs": [],
   "source": [
    "dataset = spark.read.option(\"header\", \"true\").option(\"inferSchema\", \"true\").csv(resource_folder + \"pheMLSamplerefset.csv\")"
   ]
  },
  {
   "cell_type": "markdown",
   "metadata": {},
   "source": [
    "## Generate the lexical similarity features"
   ]
  },
  {
   "cell_type": "code",
   "execution_count": null,
   "metadata": {},
   "outputs": [],
   "source": [
    "lexicalSimilarityFeature = LexicalSimilarityFeature(\"lexical similarity\")"
   ]
  },
  {
   "cell_type": "code",
   "execution_count": null,
   "metadata": {},
   "outputs": [],
   "source": [
    "dataset = lexicalSimilarityFeature.annotate(dataset)"
   ]
  },
  {
   "cell_type": "markdown",
   "metadata": {},
   "source": [
    "## Generate the cooccurrence features"
   ]
  },
  {
   "cell_type": "code",
   "execution_count": null,
   "metadata": {},
   "outputs": [],
   "source": [
    "cooccurrence_visit_df = spark.read.parquet(resource_folder + \"cooccurrence_matrix_visit\")\n",
    "cooccurrence_60_df = spark.read.parquet(resource_folder + \"cooccurrence_matrix_60\")\n",
    "cooccurrence_180_df = spark.read.parquet(resource_folder + \"cooccurrence_matrix_180\")\n",
    "cooccurrence_360_df = spark.read.parquet(resource_folder + \"cooccurrence_matrix_360\")\n",
    "cooccurrence_lifetime_df = spark.read.parquet(resource_folder + \"cooccurrence_matrix_lifetime\")"
   ]
  },
  {
   "cell_type": "code",
   "execution_count": null,
   "metadata": {},
   "outputs": [],
   "source": [
    "cooccurrence_visit_feature = OmopCooccurrenceFeature(\"cooccurrence visit\", cooccurrence_visit_df)\n",
    "cooccurrence_60_feature = OmopCooccurrenceFeature(\"cooccurrence 60 days\", cooccurrence_60_df)\n",
    "cooccurrence_180_feature = OmopCooccurrenceFeature(\"cooccurrence 180 days\", cooccurrence_180_df)\n",
    "cooccurrence_360_feature = OmopCooccurrenceFeature(\"cooccurrence 360 days\", cooccurrence_360_df)\n",
    "cooccurrence_lifetime_feature = OmopCooccurrenceFeature(\"cooccurrence lifetime\", cooccurrence_lifetime_df)"
   ]
  },
  {
   "cell_type": "code",
   "execution_count": null,
   "metadata": {},
   "outputs": [],
   "source": [
    "dataset = cooccurrence_visit_feature.annotate(dataset)\n",
    "dataset = cooccurrence_60_feature.annotate(dataset)\n",
    "dataset = cooccurrence_180_feature.annotate(dataset)\n",
    "dataset = cooccurrence_360_feature.annotate(dataset)\n",
    "dataset = cooccurrence_lifetime_feature.annotate(dataset)"
   ]
  },
  {
   "cell_type": "markdown",
   "metadata": {},
   "source": [
    "## Generate semantic similarity features"
   ]
  },
  {
   "cell_type": "code",
   "execution_count": null,
   "metadata": {},
   "outputs": [],
   "source": [
    "concept_ancestor = spark.read.parquet(resource_folder + \"concept_ancestor\")\n",
    "semanticSimilarityFeature = SemanticSimilarityFeature(\"semantic similarity\", concept_ancestor)\n",
    "\n",
    "information_content = spark.read.parquet(resource_folder + \"information_content\")\n",
    "informationContentFeature = InformationContentFeature(\"information content\", information_content, concept_ancestor)"
   ]
  },
  {
   "cell_type": "code",
   "execution_count": null,
   "metadata": {},
   "outputs": [],
   "source": [
    "dataset = semanticSimilarityFeature.annotate(dataset)\n",
    "dataset = informationContentFeature.annotate(dataset)"
   ]
  },
  {
   "cell_type": "markdown",
   "metadata": {},
   "source": [
    "## Generate embedding sim similarity feature"
   ]
  },
  {
   "cell_type": "code",
   "execution_count": null,
   "metadata": {},
   "outputs": [],
   "source": [
    "weights_lifetime = spark.read.parquet(resource_folder + \"embedding_time_window_lifetime/weight\")\n",
    "vocab_lifetime = spark.read.parquet(resource_folder + \"embedding_time_window_lifetime/concept_occurrence_lifetime\")\n",
    "embeddingFeature_lifetime = EmbeddingFeature(\"lifetime cooccur embedding\", vocab_lifetime, weights_lifetime)"
   ]
  },
  {
   "cell_type": "code",
   "execution_count": null,
   "metadata": {},
   "outputs": [],
   "source": [
    "weights_5 = spark.read.parquet(resource_folder + \"embedding_time_window_5/weight\")\n",
    "vocab_5 = spark.read.parquet(resource_folder + \"embedding_time_window_5/concept_occurrence_5\")\n",
    "embeddingFeature_5 = EmbeddingFeature(\"5 year cooccur embedding\", vocab_5, weights_5)"
   ]
  },
  {
   "cell_type": "code",
   "execution_count": null,
   "metadata": {},
   "outputs": [],
   "source": [
    "weights_visit = spark.read.parquet(resource_folder + \"embedding_time_window_visit/weight\")\n",
    "vocab_visit = spark.read.parquet(resource_folder + \"embedding_time_window_visit/concept_occurrence_visit\")\n",
    "embeddingFeature_visit = EmbeddingFeature(\"visit cooccur embedding\", vocab_visit, weights_visit)"
   ]
  },
  {
   "cell_type": "code",
   "execution_count": null,
   "metadata": {},
   "outputs": [],
   "source": [
    "dataset = embeddingFeature_lifetime.annotate(dataset)\n",
    "dataset = embeddingFeature_5.annotate(dataset)\n",
    "dataset = embeddingFeature_visit.annotate(dataset)"
   ]
  },
  {
   "cell_type": "markdown",
   "metadata": {},
   "source": [
    "## Fill 'na' with default values"
   ]
  },
  {
   "cell_type": "code",
   "execution_count": null,
   "metadata": {},
   "outputs": [],
   "source": [
    "dataset.printSchema()"
   ]
  },
  {
   "cell_type": "code",
   "execution_count": null,
   "metadata": {},
   "outputs": [],
   "source": [
    "dataset.fillna({'min_distance' : -1, \n",
    "             'risk_ratio' : '0',\n",
    "             'risk_diff' : '0',\n",
    "             'distance' : '0',\n",
    "             'ratio' : '0',\n",
    "             'jaro' : '0',\n",
    "             'jaro_wrinkler' : '0',\n",
    "             'fuzz_partial_ratio' : '0',\n",
    "             'cooccurrence_lifetime' : '0',\n",
    "             'cooccurrence_5_year' : '0',\n",
    "             'cooccurrence_visit' : '0',\n",
    "             'lifetime_cooccur_embedding_cosine' : '0',\n",
    "             '5_year_cooccur_embedding_cosine' : '0',\n",
    "             'visit_cooccur_embedding_cosine' : '0',\n",
    "             'semantic_similarity' : '0',\n",
    "             'mica_information_content' : '0',\n",
    "             'lin_measure' : '0',\n",
    "             'jiang_measure' : '0',\n",
    "             'relevance_measure' : '0',\n",
    "             'information_coefficient' : '0',\n",
    "             'graph_ic_measure' : '0'\n",
    "            }).write.mode('overwrite').option(\"header\", \"true\").csv(resource_folder + \"pheMLSamplerefset_features.csv\")"
   ]
  }
 ],
 "metadata": {
  "kernelspec": {
   "display_name": "Python 3",
   "language": "python",
   "name": "python3"
  },
  "language_info": {
   "codemirror_mode": {
    "name": "ipython",
    "version": 3
   },
   "file_extension": ".py",
   "mimetype": "text/x-python",
   "name": "python",
   "nbconvert_exporter": "python",
   "pygments_lexer": "ipython3",
   "version": "3.6.8"
  }
 },
 "nbformat": 4,
 "nbformat_minor": 2
}
