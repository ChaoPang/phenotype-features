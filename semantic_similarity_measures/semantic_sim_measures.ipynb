{
 "cells": [
  {
   "cell_type": "code",
   "execution_count": 1,
   "metadata": {},
   "outputs": [],
   "source": [
    "from pyspark.sql.functions import *\n",
    "from pyspark.sql.types import IntegerType"
   ]
  },
  {
   "cell_type": "code",
   "execution_count": 2,
   "metadata": {},
   "outputs": [],
   "source": [
    "concept_frequency_df = spark.read.option(\"header\", \"true\").option(\"delimiter\", \",\").option(\"inferschema\", \"true\") \\\n",
    "                            .csv(\"concept_id_frequency\").select(col(\"standard_concept_id\").alias(\"standard_concept_id\"), col(\"count\").alias(\"freq_count\"))"
   ]
  },
  {
   "cell_type": "code",
   "execution_count": 3,
   "metadata": {},
   "outputs": [
    {
     "name": "stdout",
     "output_type": "stream",
     "text": [
      "+-------------------+----------+\n",
      "|standard_concept_id|freq_count|\n",
      "+-------------------+----------+\n",
      "|             432807|     17680|\n",
      "|              80502|     72686|\n",
      "|             433911|      1278|\n",
      "|             436972|       204|\n",
      "|             139188|     16310|\n",
      "|           46272452|      2717|\n",
      "|             436176|     10562|\n",
      "|             141372|      1776|\n",
      "|             437469|       240|\n",
      "|           40480500|      1851|\n",
      "|             434354|        38|\n",
      "|             440069|      5396|\n",
      "|             438555|      3333|\n",
      "|            4134565|     58876|\n",
      "|             441223|        63|\n",
      "|             432312|      6259|\n",
      "|            4120275|      8477|\n",
      "|             200562|       174|\n",
      "|             444455|      1423|\n",
      "|             319041|     10366|\n",
      "+-------------------+----------+\n",
      "only showing top 20 rows\n",
      "\n"
     ]
    }
   ],
   "source": [
    "concept_frequency_df.show()"
   ]
  },
  {
   "cell_type": "code",
   "execution_count": 4,
   "metadata": {},
   "outputs": [
    {
     "data": {
      "text/plain": [
       "197752964"
      ]
     },
     "execution_count": 4,
     "metadata": {},
     "output_type": "execute_result"
    }
   ],
   "source": [
    "total_sum = concept_frequency_df.groupBy().agg(sum(\"freq_count\")).collect()[0][0]\n",
    "total_sum"
   ]
  },
  {
   "cell_type": "code",
   "execution_count": 5,
   "metadata": {},
   "outputs": [],
   "source": [
    "concept_ancestor = spark.read.option(\"header\", \"true\").option(\"delimiter\", \",\").csv(\"concept_ancestor.csv\").filter(col('min_levels_of_separation') >= 1)"
   ]
  },
  {
   "cell_type": "code",
   "execution_count": 6,
   "metadata": {},
   "outputs": [
    {
     "name": "stdout",
     "output_type": "stream",
     "text": [
      "root\n",
      " |-- ancestor_concept_id: string (nullable = true)\n",
      " |-- descendant_concept_id: string (nullable = true)\n",
      " |-- min_levels_of_separation: string (nullable = true)\n",
      " |-- max_levels_of_separation: string (nullable = true)\n",
      "\n"
     ]
    }
   ],
   "source": [
    "concept_ancestor.printSchema()"
   ]
  },
  {
   "cell_type": "code",
   "execution_count": 7,
   "metadata": {},
   "outputs": [],
   "source": [
    "# left join b/w descendent_concept_id and the standard_concept_id in the concept freq table\n",
    "freq_df = concept_ancestor.join(concept_frequency_df, concept_ancestor['descendant_concept_id'] == concept_frequency_df['standard_concept_id'], 'left_outer') \\\n",
    "                        .where(col('standard_concept_id').isNotNull()).groupBy('ancestor_concept_id').sum(\"freq_count\") \\\n",
    "                        .withColumnRenamed('ancestor_concept_id', 'concept_id')"
   ]
  },
  {
   "cell_type": "code",
   "execution_count": 8,
   "metadata": {},
   "outputs": [
    {
     "name": "stdout",
     "output_type": "stream",
     "text": [
      "root\n",
      " |-- concept_id: string (nullable = true)\n",
      " |-- sum(freq_count): long (nullable = true)\n",
      "\n"
     ]
    }
   ],
   "source": [
    "freq_df.printSchema()"
   ]
  },
  {
   "cell_type": "code",
   "execution_count": 9,
   "metadata": {},
   "outputs": [],
   "source": [
    "information_content_table = freq_df.orderBy(col('sum(freq_count)').desc()).withColumn(\"Information_content\", (-log(col('sum(freq_count)') / total_sum))) \\\n",
    "                                                                        .withColumn(\"Probability\", col('sum(freq_count)') / total_sum)"
   ]
  },
  {
   "cell_type": "code",
   "execution_count": 10,
   "metadata": {},
   "outputs": [
    {
     "name": "stdout",
     "output_type": "stream",
     "text": [
      "+----------+---------------+-------------------+-------------------+\n",
      "|concept_id|sum(freq_count)|Information_content|        Probability|\n",
      "+----------+---------------+-------------------+-------------------+\n",
      "|  36206173|       79967894| 0.9053933660359812|0.40438278335995004|\n",
      "|  45876249|       67245415|  1.078669757438401| 0.3400475706649838|\n",
      "|  36300000|       63437173| 1.1369685806144145| 0.3207899983739308|\n",
      "|  36302170|       63278962|  1.139465675119548| 0.3199899547396923|\n",
      "|  36303153|       63071493|  1.142749702651699| 0.3189408225507052|\n",
      "|  36208195|       61776154| 1.1635011627611662|0.31239053387842014|\n",
      "|    441840|       41086928| 1.5713285777729744|0.20776896168292072|\n",
      "|  36313966|       41083055| 1.5714228457735622|0.20774937664145454|\n",
      "|  45876033|       35653536| 1.7131702666800224|0.18029330776554126|\n",
      "|  40772935|       35368172| 1.7212062754921829|0.17885027503304576|\n",
      "|  45876002|       33697134| 1.7696058059259916|0.17040014631588532|\n",
      "|  40796128|       33305379|  1.781299679684316|0.16841911406192628|\n",
      "|  45876037|       32082573| 1.8187056096397658| 0.1622356112953129|\n",
      "|   3050940|       31844770| 1.8261454338440921|0.16103308570383804|\n",
      "|   4322976|       31090075| 1.8501299587384414|0.15721673329761066|\n",
      "|   4042140|       29127549| 1.9153341677878546| 0.1472926039176839|\n",
      "|   4274025|       29089313| 1.9166477392922043|0.14709925156924575|\n",
      "|  40792793|       28987961| 1.9201379892955994|0.14658673333462652|\n",
      "|  40779561|       28308659| 1.9438508655765958| 0.1431516293227342|\n",
      "|   4029205|       27561634| 1.9705938619451044|0.13937406268155858|\n",
      "+----------+---------------+-------------------+-------------------+\n",
      "only showing top 20 rows\n",
      "\n"
     ]
    }
   ],
   "source": [
    "information_content_table.show()"
   ]
  },
  {
   "cell_type": "code",
   "execution_count": 11,
   "metadata": {},
   "outputs": [],
   "source": [
    "training_data = spark.read.option(\"header\", \"true\").option(\"delimiter\", \",\").csv(\"pheMLSamplerefset.csv\")           "
   ]
  },
  {
   "cell_type": "code",
   "execution_count": 12,
   "metadata": {},
   "outputs": [
    {
     "name": "stdout",
     "output_type": "stream",
     "text": [
      "root\n",
      " |-- _c0: string (nullable = true)\n",
      " |-- GROUND_TRUTH: string (nullable = true)\n",
      " |-- PHENOTYPE_ID: string (nullable = true)\n",
      " |-- CONCEPT_ID_1: string (nullable = true)\n",
      " |-- CONCEPT_ID_2: string (nullable = true)\n",
      " |-- CONCEPT_NAME_1: string (nullable = true)\n",
      " |-- CONCEPT_NAME_2: string (nullable = true)\n",
      " |-- SAME_DOMAIN: string (nullable = true)\n",
      " |-- IS_PARENT: string (nullable = true)\n",
      " |-- IS_ANCESTOR: string (nullable = true)\n",
      " |-- MIN_DISTANCE: string (nullable = true)\n",
      " |-- IS_SIBLING_W_SAME_PARENT: string (nullable = true)\n",
      " |-- RISK_DIFF: string (nullable = true)\n",
      " |-- RISK_RATIO: string (nullable = true)\n",
      " |-- RN1: string (nullable = true)\n",
      "\n"
     ]
    }
   ],
   "source": [
    "training_data.printSchema()"
   ]
  },
  {
   "cell_type": "code",
   "execution_count": 13,
   "metadata": {},
   "outputs": [],
   "source": [
    "common_anc_ic_df = training_data.join(concept_ancestor, col('concept_id_1') == concept_ancestor['descendant_concept_id']) \\\n",
    "                            .select(col('ancestor_concept_id').alias('ancestor_concept_id_1'), col('concept_id_1'), col('concept_id_2')) \\\n",
    "                        .join(concept_ancestor, col('concept_id_2') == col('descendant_concept_id')) \\\n",
    "                            .select(col('ancestor_concept_id_1'), col('concept_id_1'), col('ancestor_concept_id').alias('ancestor_concept_id_2'),  col('concept_id_2')) \\\n",
    "                        .filter(col(\"ancestor_concept_id_1\") == col(\"ancestor_concept_id_2\")) \\\n",
    "                        .join(information_content_table, col('ancestor_concept_id_1') == col('concept_id')) \\\n",
    "                            .select(col('concept_id').alias(\"ancestor_concept_id\"), col('concept_id_1'), col('concept_id_2'), \\\n",
    "                                    col('sum(freq_count)'), col('Information_content') , col('Probability'))\n"
   ]
  },
  {
   "cell_type": "code",
   "execution_count": 14,
   "metadata": {},
   "outputs": [
    {
     "name": "stdout",
     "output_type": "stream",
     "text": [
      "root\n",
      " |-- ancestor_concept_id: string (nullable = true)\n",
      " |-- concept_id_1: string (nullable = true)\n",
      " |-- concept_id_2: string (nullable = true)\n",
      " |-- sum(freq_count): long (nullable = true)\n",
      " |-- Information_content: double (nullable = true)\n",
      " |-- Probability: double (nullable = true)\n",
      "\n"
     ]
    }
   ],
   "source": [
    "common_anc_ic_df.printSchema()"
   ]
  },
  {
   "cell_type": "code",
   "execution_count": 15,
   "metadata": {},
   "outputs": [],
   "source": [
    "intersection_sum = common_anc_ic_df.groupBy(col('concept_id_1'), col('concept_id_2')).agg(sum('Information_content')).withColumnRenamed(\"sum(Information_content)\", \"intersection\")\n"
   ]
  },
  {
   "cell_type": "code",
   "execution_count": 16,
   "metadata": {},
   "outputs": [],
   "source": [
    "#intersection_sum.cache()"
   ]
  },
  {
   "cell_type": "code",
   "execution_count": 17,
   "metadata": {},
   "outputs": [
    {
     "name": "stdout",
     "output_type": "stream",
     "text": [
      "+------------+------------+------------------+\n",
      "|concept_id_1|concept_id_2|      intersection|\n",
      "+------------+------------+------------------+\n",
      "|      439693|      444406| 971.0343583885979|\n",
      "|    44792251|    46284592|208.16461241950432|\n",
      "|    43021835|    46284592|208.16461241950432|\n",
      "|    43531653|    45771075|  274.059190851704|\n",
      "|    44792229|    45757445|208.16461241950432|\n",
      "|    43021854|    43531559|208.16461241950432|\n",
      "|    43021835|    44792253|208.16461241950432|\n",
      "|     4322556|    43021835|208.16461241950432|\n",
      "|    43020456|    46284598|208.16461241950432|\n",
      "|    44782703|    44792249|208.16461241950432|\n",
      "|     4322556|    43531653|208.16461241950432|\n",
      "|    45763855|    46284567|208.16461241950432|\n",
      "|    45769901|    46270355|208.16461241950432|\n",
      "|     4128067|    44792231|208.16461241950432|\n",
      "|    44784639|    44792231|208.16461241950432|\n",
      "|    44782703|    46284591|208.16461241950432|\n",
      "|    45769352|    45771045|123.64967907159546|\n",
      "|     2107095|     2107311|234.47858167750567|\n",
      "|     2107197|     2107377|306.38383127697455|\n",
      "|     2107269|     2107376| 236.6172790106602|\n",
      "+------------+------------+------------------+\n",
      "only showing top 20 rows\n",
      "\n"
     ]
    }
   ],
   "source": [
    "intersection_sum.show()"
   ]
  },
  {
   "cell_type": "code",
   "execution_count": 18,
   "metadata": {},
   "outputs": [],
   "source": [
    "temp_df = training_data.select(col('concept_id_1'), col('concept_id_2'))"
   ]
  },
  {
   "cell_type": "code",
   "execution_count": 19,
   "metadata": {},
   "outputs": [],
   "source": [
    "unioned_sum = temp_df.join(concept_ancestor, col('concept_id_1') == concept_ancestor['descendant_concept_id']) \\\n",
    "                .select(col('concept_id_1'), col('concept_id_2'), concept_ancestor['ancestor_concept_id']) \\\n",
    "                .union(temp_df.join(concept_ancestor, col('concept_id_2') == concept_ancestor['descendant_concept_id']) \\\n",
    "                .select(col('concept_id_1'), col('concept_id_2'), concept_ancestor['ancestor_concept_id'])) \\\n",
    "                .join(information_content_table, col('ancestor_concept_id') == information_content_table['concept_id']) \\\n",
    "                .select(col('concept_id_1'), col('concept_id_2'), col('ancestor_concept_id'), information_content_table['Information_content']) \\\n",
    "                .groupBy(col('concept_id_1'), col('concept_id_2')).agg(sum(col('Information_content')))"
   ]
  },
  {
   "cell_type": "code",
   "execution_count": null,
   "metadata": {},
   "outputs": [],
   "source": []
  },
  {
   "cell_type": "code",
   "execution_count": 20,
   "metadata": {},
   "outputs": [
    {
     "name": "stdout",
     "output_type": "stream",
     "text": [
      "+------------+------------+------------------------+\n",
      "|concept_id_1|concept_id_2|sum(Information_content)|\n",
      "+------------+------------+------------------------+\n",
      "|     4265212|    44809286|      1221.9532728435065|\n",
      "|     4265212|    37395518|       1174.659201545537|\n",
      "|       28356|      321107|      1055.1455737040878|\n",
      "|      437220|      439738|      1642.0606628402754|\n",
      "|      134579|      439738|      1644.9780319074039|\n",
      "|      438691|     4116235|      1248.7015039466341|\n",
      "|      438692|     4116235|      1312.8245006597324|\n",
      "|      192384|     2211624|       656.0312833077304|\n",
      "|      440335|     2211328|      1109.4842748294172|\n",
      "|     2107494|     2110592|       859.0424171676667|\n",
      "|     2107860|     2110597|      1309.4682105005272|\n",
      "|     2107098|     2107970|       899.4218240873519|\n",
      "|     2107099|     2107965|       849.0984146935807|\n",
      "|      441593|    44782733|       685.2503411753123|\n",
      "|    40766092|    46284600|      260.55156710669587|\n",
      "|     2109069|    40759656|       841.4595460521894|\n",
      "|     2211462|     3035856|      241.77398834030043|\n",
      "|     2211464|     3027299|      288.18465236102963|\n",
      "|      432262|    40490929|       984.8075017321827|\n",
      "|      442163|    40490929|       872.6465260180804|\n",
      "+------------+------------+------------------------+\n",
      "only showing top 20 rows\n",
      "\n"
     ]
    }
   ],
   "source": [
    "unioned_sum.show()"
   ]
  },
  {
   "cell_type": "code",
   "execution_count": 21,
   "metadata": {},
   "outputs": [],
   "source": [
    "graph_ic_measure_df = unioned_sum.join(intersection_sum, (unioned_sum['concept_id_1'] == intersection_sum['concept_id_1']) & (unioned_sum['concept_id_2'] == intersection_sum['concept_id_2'])) \\\n",
    "                                    .select(unioned_sum['concept_id_1'], unioned_sum['concept_id_2'], unioned_sum['sum(Information_content)'].alias('Union_sum'), intersection_sum['intersection'].alias('intersection_sum'))"
   ]
  },
  {
   "cell_type": "code",
   "execution_count": 22,
   "metadata": {},
   "outputs": [],
   "source": [
    "graph_ic_measure = graph_ic_measure_df.withColumn('graph_ic_measure', (col('intersection_sum') / col('Union_sum')))"
   ]
  },
  {
   "cell_type": "code",
   "execution_count": 23,
   "metadata": {},
   "outputs": [
    {
     "data": {
      "text/plain": [
       "DataFrame[concept_id_1: string, concept_id_2: string, Union_sum: double, intersection_sum: double, graph_ic_measure: double]"
      ]
     },
     "execution_count": 23,
     "metadata": {},
     "output_type": "execute_result"
    }
   ],
   "source": [
    "graph_ic_measure.cache()"
   ]
  },
  {
   "cell_type": "code",
   "execution_count": 24,
   "metadata": {},
   "outputs": [
    {
     "name": "stdout",
     "output_type": "stream",
     "text": [
      "+------------+------------+------------------+------------------+--------------------+\n",
      "|concept_id_1|concept_id_2|         Union_sum|  intersection_sum|    graph_ic_measure|\n",
      "+------------+------------+------------------+------------------+--------------------+\n",
      "|      132414|      432690|  739.505903245484| 49.27248566031775| 0.06662892810466371|\n",
      "|      132575|      199752|1196.1671945004316| 79.17703632362709| 0.06619228205526458|\n",
      "|      132575|    40490918| 709.9528374300353|107.26015123796006| 0.15108067125449073|\n",
      "|      132718|      133003| 731.2980823060825| 332.5065643835223| 0.45467993480167873|\n",
      "|      132781|      316135|334.71811430155714| 8.478583121224403|0.025330517707164796|\n",
      "|      132841|      136928|1208.2687734766744| 365.8430779503427|  0.3027828625394872|\n",
      "|      132841|      192270| 1758.618969046716|  559.449948625747|  0.3181189094810029|\n",
      "|      132852|      140666| 735.1839591190453|293.84717867096714|  0.3996920430950068|\n",
      "|      133003|      443597| 531.2840571085346|16.888421529388474| 0.03178793209286606|\n",
      "|      133154|      318697| 948.3034940242811|239.73674519388675| 0.25280592838113947|\n",
      "|      133154|     4147162| 580.1045933141359| 49.77539352257715| 0.08580417065517525|\n",
      "|      133158|    40479608|1378.6974600742308|247.82450510270354|  0.1797526377464715|\n",
      "|      133296|      134738| 747.3043925357786|317.83667398925735| 0.42531086015801833|\n",
      "|      133296|      196019| 853.2832250916454| 95.00498206059723|  0.1113405013328293|\n",
      "|      133650|      318549| 587.5626384939103|17.518213494277685|0.029815056891945742|\n",
      "|      133650|    44784621| 606.0088551818376| 14.67386988070922| 0.02421395290718353|\n",
      "|      133853|      137077| 795.8526601709459| 367.3867756453681| 0.46162662265456894|\n",
      "|      133853|      437899| 821.2118430150952| 74.61265049683949| 0.09085676385632446|\n",
      "|      133956|     2414393| 215.8787140068384| 3.419183958385662|0.015838448798047557|\n",
      "|      133956|     4194050|  400.635841879402|14.573181676873816| 0.03637513211127172|\n",
      "+------------+------------+------------------+------------------+--------------------+\n",
      "only showing top 20 rows\n",
      "\n"
     ]
    }
   ],
   "source": [
    "graph_ic_measure.show()\n"
   ]
  },
  {
   "cell_type": "code",
   "execution_count": null,
   "metadata": {},
   "outputs": [],
   "source": [
    "training_data.join(graph_ic_measure, (training_data['concept_id_1'] == graph_ic_measure['concept_id_1']) & (training_data['concept_id_2'] == graph_ic_measure['concept_id_2']), \"left_outer\") \\\n",
    "                .select(training_data['concept_id_1'], training_data['concept_id_2'], graph_ic_measure['graph_ic_measure'], training_data['is_connected']) \\\n",
    "                .where(\"is_connected = 0\").show(500)\n"
   ]
  },
  {
   "cell_type": "code",
   "execution_count": 25,
   "metadata": {},
   "outputs": [
    {
     "name": "stdout",
     "output_type": "stream",
     "text": [
      "root\n",
      " |-- ancestor_concept_id: string (nullable = true)\n",
      " |-- concept_id_1: string (nullable = true)\n",
      " |-- concept_id_2: string (nullable = true)\n",
      " |-- sum(freq_count): long (nullable = true)\n",
      " |-- Information_content: double (nullable = true)\n",
      " |-- Probability: double (nullable = true)\n",
      "\n"
     ]
    }
   ],
   "source": [
    "common_anc_ic_df.printSchema()"
   ]
  },
  {
   "cell_type": "code",
   "execution_count": 26,
   "metadata": {},
   "outputs": [],
   "source": [
    "max_ic_df = common_anc_ic_df.groupBy(\"ancestor_concept_id\", \"concept_id_1\", \"concept_id_2\").agg(max(\"Information_content\"), max(\"Probability\")) \\\n",
    "                            .withColumnRenamed(\"max(Information_content)\", \"information_content\").withColumnRenamed(\"max(Probability)\", \"MICA_probability\")"
   ]
  },
  {
   "cell_type": "code",
   "execution_count": null,
   "metadata": {},
   "outputs": [],
   "source": [
    "training_data.join(max_ic_df, (training_data[\"concept_id_1\"] == max_ic_df[\"concept_id_1\"]) \n",
    "                   & (training_data[\"concept_id_2\"] == max_ic_df[\"concept_id_2\"]), \"left_outer\") \\\n",
    "    .select([training_data[\"concept_id_1\"], training_data[\"concept_id_2\"], training_data[\"is_connected\"]] + [max_ic_df[f] for f in max_ic_df.schema.fieldNames()]) \\\n",
    "    .where(\"is_connected == 1 AND information_content == 0.0\").show(500, False)"
   ]
  },
  {
   "cell_type": "code",
   "execution_count": 27,
   "metadata": {},
   "outputs": [],
   "source": [
    "lin_sim_df = max_ic_df.join(information_content_table, max_ic_df['concept_id_1'] == information_content_table['concept_id'], \"left_outer\") \\\n",
    "                            .select(col('concept_id_1'), col('concept_id_2'), max_ic_df['information_content'].alias('MICA'), information_content_table['Information_content'].alias('information_content_1'), col('MICA_probability')) \\\n",
    "                        .join(information_content_table, max_ic_df['concept_id_2'] == information_content_table['concept_id'], \"left_outer\") \\\n",
    "                            .select(col('concept_id_1'), col('concept_id_2'), col('MICA'), col('information_content_1'), col('MICA_probability'), information_content_table['Information_content'].alias('information_content_2'))\n"
   ]
  },
  {
   "cell_type": "code",
   "execution_count": 41,
   "metadata": {},
   "outputs": [
    {
     "name": "stdout",
     "output_type": "stream",
     "text": [
      "+------------+------------+------------------+---------------------+--------------------+---------------------+-----------+\n",
      "|concept_id_1|concept_id_2|              MICA|information_content_1|    MICA_probability|information_content_2|lin_measure|\n",
      "+------------+------------+------------------+---------------------+--------------------+---------------------+-----------+\n",
      "|      133024|      194106| 1.142749702651699|                 null|  0.3189408225507052|   14.384030281826613|       null|\n",
      "|      133024|      194106|1.9166477392922043|                 null| 0.14709925156924575|   14.384030281826613|       null|\n",
      "|      133024|      194106|2.5638212271406142|                 null| 0.07700990514609936|   14.384030281826613|       null|\n",
      "|      133024|      194106|2.1319522132688857|                 null| 0.11860552441580598|   14.384030281826613|       null|\n",
      "|      133024|      194106| 4.124573033981115|                 null| 0.01617039732461355|   14.384030281826613|       null|\n",
      "|      133024|      194106|1.5713285777729744|                 null| 0.20776896168292072|   14.384030281826613|       null|\n",
      "|      133024|      194106|1.9153341677878546|                 null|  0.1472926039176839|   14.384030281826613|       null|\n",
      "|      133024|      194106|1.1369685806144145|                 null|  0.3207899983739308|   14.384030281826613|       null|\n",
      "|      133024|      194106|1.5714228457735622|                 null| 0.20774937664145454|   14.384030281826613|       null|\n",
      "|      133024|      194106|2.2145516486792562|                 null| 0.10920246434334102|   14.384030281826613|       null|\n",
      "|      133024|      194106| 1.139465675119548|                 null|  0.3199899547396923|   14.384030281826613|       null|\n",
      "|     2100713|     2106346| 3.000369102057214|                 null|  0.0497686952494932|                 null|       null|\n",
      "|     2100713|     2106346| 2.195286879395033|                 null| 0.11132661961011113|                 null|       null|\n",
      "|     2100713|     2106346|1.8501299587384414|                 null| 0.15721673329761066|                 null|       null|\n",
      "|     2100713|     2106346|1.9705938619451044|                 null| 0.13937406268155858|                 null|       null|\n",
      "|     2100713|     2106346| 3.206762635206206|                 null|  0.0404874740587959|                 null|       null|\n",
      "|     2002662|     2106346| 4.069195253897602|                 null|0.017091137000606473|                 null|       null|\n",
      "|     2002662|     2106346|1.9705938619451044|                 null| 0.13937406268155858|                 null|       null|\n",
      "|     2002662|     2106346|1.8501299587384414|                 null| 0.15721673329761066|                 null|       null|\n",
      "|     2002662|     2106346|2.8520023645975345|                 null| 0.05772861133954989|                 null|       null|\n",
      "+------------+------------+------------------+---------------------+--------------------+---------------------+-----------+\n",
      "only showing top 20 rows\n",
      "\n"
     ]
    }
   ],
   "source": [
    "lin_sim_df.where(\"(information_content_1 IS NULL OR information_content_2 IS NULL) AND MICA IS NOT NULL\").show()"
   ]
  },
  {
   "cell_type": "code",
   "execution_count": 29,
   "metadata": {},
   "outputs": [],
   "source": [
    "lin_sim_df = lin_sim_df.withColumn('lin_measure', ((2 * col('MICA')) / (col('information_content_1') * col('information_content_2'))))"
   ]
  },
  {
   "cell_type": "code",
   "execution_count": 30,
   "metadata": {},
   "outputs": [],
   "source": [
    "jiang_cornath_measure = lin_sim_df.withColumn('jiang_measure', (1 - (col('information_content_1') + col('information_content_2') - 2 * col('MICA'))))"
   ]
  },
  {
   "cell_type": "code",
   "execution_count": 31,
   "metadata": {},
   "outputs": [
    {
     "name": "stdout",
     "output_type": "stream",
     "text": [
      "root\n",
      " |-- concept_id_1: string (nullable = true)\n",
      " |-- concept_id_2: string (nullable = true)\n",
      " |-- MICA: double (nullable = true)\n",
      " |-- information_content_1: double (nullable = true)\n",
      " |-- MICA_probability: double (nullable = true)\n",
      " |-- information_content_2: double (nullable = true)\n",
      " |-- lin_measure: double (nullable = true)\n",
      " |-- jiang_measure: double (nullable = true)\n",
      "\n"
     ]
    }
   ],
   "source": [
    "jiang_cornath_measure.printSchema()"
   ]
  },
  {
   "cell_type": "code",
   "execution_count": 32,
   "metadata": {},
   "outputs": [],
   "source": [
    "information_coefficient = jiang_cornath_measure.withColumn('information_coefficient', (col('lin_measure') * (1 - ((1)/(1 + col('MICA'))))))"
   ]
  },
  {
   "cell_type": "code",
   "execution_count": 33,
   "metadata": {},
   "outputs": [],
   "source": [
    "relevence_measure = information_coefficient.withColumn('relevance_measure', (col('lin_measure') * (1 - col('MICA_probability'))))"
   ]
  },
  {
   "cell_type": "code",
   "execution_count": 34,
   "metadata": {},
   "outputs": [],
   "source": [
    "output_features = relevence_measure.select(col('concept_id_1'), col('concept_id_2'), col('MICA'), col('lin_measure'), \\\n",
    "                                                  col('jiang_measure'), col('relevance_measure'), col('information_coefficient'))"
   ]
  },
  {
   "cell_type": "code",
   "execution_count": 35,
   "metadata": {},
   "outputs": [
    {
     "ename": "AnalysisException",
     "evalue": "'Cannot resolve column name \"is_connected\" among (_c0, GROUND_TRUTH, PHENOTYPE_ID, CONCEPT_ID_1, CONCEPT_ID_2, CONCEPT_NAME_1, CONCEPT_NAME_2, SAME_DOMAIN, IS_PARENT, IS_ANCESTOR, MIN_DISTANCE, IS_SIBLING_W_SAME_PARENT, RISK_DIFF, RISK_RATIO, RN1);'",
     "output_type": "error",
     "traceback": [
      "\u001b[0;31m---------------------------------------------------------------------------\u001b[0m",
      "\u001b[0;31mPy4JJavaError\u001b[0m                             Traceback (most recent call last)",
      "\u001b[0;32m~/apache-spark/spark-2.4.2-bin-hadoop2.7/python/pyspark/sql/utils.py\u001b[0m in \u001b[0;36mdeco\u001b[0;34m(*a, **kw)\u001b[0m\n\u001b[1;32m     62\u001b[0m         \u001b[0;32mtry\u001b[0m\u001b[0;34m:\u001b[0m\u001b[0;34m\u001b[0m\u001b[0;34m\u001b[0m\u001b[0m\n\u001b[0;32m---> 63\u001b[0;31m             \u001b[0;32mreturn\u001b[0m \u001b[0mf\u001b[0m\u001b[0;34m(\u001b[0m\u001b[0;34m*\u001b[0m\u001b[0ma\u001b[0m\u001b[0;34m,\u001b[0m \u001b[0;34m**\u001b[0m\u001b[0mkw\u001b[0m\u001b[0;34m)\u001b[0m\u001b[0;34m\u001b[0m\u001b[0;34m\u001b[0m\u001b[0m\n\u001b[0m\u001b[1;32m     64\u001b[0m         \u001b[0;32mexcept\u001b[0m \u001b[0mpy4j\u001b[0m\u001b[0;34m.\u001b[0m\u001b[0mprotocol\u001b[0m\u001b[0;34m.\u001b[0m\u001b[0mPy4JJavaError\u001b[0m \u001b[0;32mas\u001b[0m \u001b[0me\u001b[0m\u001b[0;34m:\u001b[0m\u001b[0;34m\u001b[0m\u001b[0;34m\u001b[0m\u001b[0m\n",
      "\u001b[0;32m~/apache-spark/spark-2.4.2-bin-hadoop2.7/python/lib/py4j-0.10.7-src.zip/py4j/protocol.py\u001b[0m in \u001b[0;36mget_return_value\u001b[0;34m(answer, gateway_client, target_id, name)\u001b[0m\n\u001b[1;32m    327\u001b[0m                     \u001b[0;34m\"An error occurred while calling {0}{1}{2}.\\n\"\u001b[0m\u001b[0;34m.\u001b[0m\u001b[0;34m\u001b[0m\u001b[0;34m\u001b[0m\u001b[0m\n\u001b[0;32m--> 328\u001b[0;31m                     format(target_id, \".\", name), value)\n\u001b[0m\u001b[1;32m    329\u001b[0m             \u001b[0;32melse\u001b[0m\u001b[0;34m:\u001b[0m\u001b[0;34m\u001b[0m\u001b[0;34m\u001b[0m\u001b[0m\n",
      "\u001b[0;31mPy4JJavaError\u001b[0m: An error occurred while calling o96.apply.\n: org.apache.spark.sql.AnalysisException: Cannot resolve column name \"is_connected\" among (_c0, GROUND_TRUTH, PHENOTYPE_ID, CONCEPT_ID_1, CONCEPT_ID_2, CONCEPT_NAME_1, CONCEPT_NAME_2, SAME_DOMAIN, IS_PARENT, IS_ANCESTOR, MIN_DISTANCE, IS_SIBLING_W_SAME_PARENT, RISK_DIFF, RISK_RATIO, RN1);\n\tat org.apache.spark.sql.Dataset.$anonfun$resolve$1(Dataset.scala:223)\n\tat scala.Option.getOrElse(Option.scala:138)\n\tat org.apache.spark.sql.Dataset.resolve(Dataset.scala:223)\n\tat org.apache.spark.sql.Dataset.col(Dataset.scala:1268)\n\tat org.apache.spark.sql.Dataset.apply(Dataset.scala:1235)\n\tat sun.reflect.GeneratedMethodAccessor121.invoke(Unknown Source)\n\tat sun.reflect.DelegatingMethodAccessorImpl.invoke(DelegatingMethodAccessorImpl.java:43)\n\tat java.lang.reflect.Method.invoke(Method.java:498)\n\tat py4j.reflection.MethodInvoker.invoke(MethodInvoker.java:244)\n\tat py4j.reflection.ReflectionEngine.invoke(ReflectionEngine.java:357)\n\tat py4j.Gateway.invoke(Gateway.java:282)\n\tat py4j.commands.AbstractCommand.invokeMethod(AbstractCommand.java:132)\n\tat py4j.commands.CallCommand.execute(CallCommand.java:79)\n\tat py4j.GatewayConnection.run(GatewayConnection.java:238)\n\tat java.lang.Thread.run(Thread.java:748)\n",
      "\nDuring handling of the above exception, another exception occurred:\n",
      "\u001b[0;31mAnalysisException\u001b[0m                         Traceback (most recent call last)",
      "\u001b[0;32m<ipython-input-35-c3f4072c19a2>\u001b[0m in \u001b[0;36m<module>\u001b[0;34m\u001b[0m\n\u001b[1;32m      1\u001b[0m training_data.join(output_features, (training_data[\"concept_id_1\"] == output_features[\"concept_id_1\"]) \n\u001b[1;32m      2\u001b[0m                    & (training_data[\"concept_id_2\"] == output_features[\"concept_id_2\"]), \"left_outer\") \\\n\u001b[0;32m----> 3\u001b[0;31m     \u001b[0;34m.\u001b[0m\u001b[0mselect\u001b[0m\u001b[0;34m(\u001b[0m\u001b[0;34m[\u001b[0m\u001b[0mtraining_data\u001b[0m\u001b[0;34m[\u001b[0m\u001b[0;34m\"concept_id_1\"\u001b[0m\u001b[0;34m]\u001b[0m\u001b[0;34m,\u001b[0m \u001b[0mtraining_data\u001b[0m\u001b[0;34m[\u001b[0m\u001b[0;34m\"concept_id_2\"\u001b[0m\u001b[0;34m]\u001b[0m\u001b[0;34m,\u001b[0m \u001b[0mtraining_data\u001b[0m\u001b[0;34m[\u001b[0m\u001b[0;34m\"is_connected\"\u001b[0m\u001b[0;34m]\u001b[0m\u001b[0;34m]\u001b[0m \u001b[0;34m+\u001b[0m \u001b[0;34m[\u001b[0m\u001b[0moutput_features\u001b[0m\u001b[0;34m[\u001b[0m\u001b[0mf\u001b[0m\u001b[0;34m]\u001b[0m \u001b[0;32mfor\u001b[0m \u001b[0mf\u001b[0m \u001b[0;32min\u001b[0m \u001b[0moutput_features\u001b[0m\u001b[0;34m.\u001b[0m\u001b[0mschema\u001b[0m\u001b[0;34m.\u001b[0m\u001b[0mfieldNames\u001b[0m\u001b[0;34m(\u001b[0m\u001b[0;34m)\u001b[0m\u001b[0;34m]\u001b[0m\u001b[0;34m)\u001b[0m\u001b[0;31m \u001b[0m\u001b[0;31m\\\u001b[0m\u001b[0;34m\u001b[0m\u001b[0;34m\u001b[0m\u001b[0m\n\u001b[0m\u001b[1;32m      4\u001b[0m     \u001b[0;34m.\u001b[0m\u001b[0mwhere\u001b[0m\u001b[0;34m(\u001b[0m\u001b[0;34m\"is_connected == 1 AND MICA == 0.0\"\u001b[0m\u001b[0;34m)\u001b[0m\u001b[0;34m.\u001b[0m\u001b[0mshow\u001b[0m\u001b[0;34m(\u001b[0m\u001b[0;36m500\u001b[0m\u001b[0;34m,\u001b[0m \u001b[0;32mFalse\u001b[0m\u001b[0;34m)\u001b[0m\u001b[0;34m\u001b[0m\u001b[0;34m\u001b[0m\u001b[0m\n",
      "\u001b[0;32m~/apache-spark/spark-2.4.2-bin-hadoop2.7/python/pyspark/sql/dataframe.py\u001b[0m in \u001b[0;36m__getitem__\u001b[0;34m(self, item)\u001b[0m\n\u001b[1;32m   1277\u001b[0m         \"\"\"\n\u001b[1;32m   1278\u001b[0m         \u001b[0;32mif\u001b[0m \u001b[0misinstance\u001b[0m\u001b[0;34m(\u001b[0m\u001b[0mitem\u001b[0m\u001b[0;34m,\u001b[0m \u001b[0mbasestring\u001b[0m\u001b[0;34m)\u001b[0m\u001b[0;34m:\u001b[0m\u001b[0;34m\u001b[0m\u001b[0;34m\u001b[0m\u001b[0m\n\u001b[0;32m-> 1279\u001b[0;31m             \u001b[0mjc\u001b[0m \u001b[0;34m=\u001b[0m \u001b[0mself\u001b[0m\u001b[0;34m.\u001b[0m\u001b[0m_jdf\u001b[0m\u001b[0;34m.\u001b[0m\u001b[0mapply\u001b[0m\u001b[0;34m(\u001b[0m\u001b[0mitem\u001b[0m\u001b[0;34m)\u001b[0m\u001b[0;34m\u001b[0m\u001b[0;34m\u001b[0m\u001b[0m\n\u001b[0m\u001b[1;32m   1280\u001b[0m             \u001b[0;32mreturn\u001b[0m \u001b[0mColumn\u001b[0m\u001b[0;34m(\u001b[0m\u001b[0mjc\u001b[0m\u001b[0;34m)\u001b[0m\u001b[0;34m\u001b[0m\u001b[0;34m\u001b[0m\u001b[0m\n\u001b[1;32m   1281\u001b[0m         \u001b[0;32melif\u001b[0m \u001b[0misinstance\u001b[0m\u001b[0;34m(\u001b[0m\u001b[0mitem\u001b[0m\u001b[0;34m,\u001b[0m \u001b[0mColumn\u001b[0m\u001b[0;34m)\u001b[0m\u001b[0;34m:\u001b[0m\u001b[0;34m\u001b[0m\u001b[0;34m\u001b[0m\u001b[0m\n",
      "\u001b[0;32m~/apache-spark/spark-2.4.2-bin-hadoop2.7/python/lib/py4j-0.10.7-src.zip/py4j/java_gateway.py\u001b[0m in \u001b[0;36m__call__\u001b[0;34m(self, *args)\u001b[0m\n\u001b[1;32m   1255\u001b[0m         \u001b[0manswer\u001b[0m \u001b[0;34m=\u001b[0m \u001b[0mself\u001b[0m\u001b[0;34m.\u001b[0m\u001b[0mgateway_client\u001b[0m\u001b[0;34m.\u001b[0m\u001b[0msend_command\u001b[0m\u001b[0;34m(\u001b[0m\u001b[0mcommand\u001b[0m\u001b[0;34m)\u001b[0m\u001b[0;34m\u001b[0m\u001b[0;34m\u001b[0m\u001b[0m\n\u001b[1;32m   1256\u001b[0m         return_value = get_return_value(\n\u001b[0;32m-> 1257\u001b[0;31m             answer, self.gateway_client, self.target_id, self.name)\n\u001b[0m\u001b[1;32m   1258\u001b[0m \u001b[0;34m\u001b[0m\u001b[0m\n\u001b[1;32m   1259\u001b[0m         \u001b[0;32mfor\u001b[0m \u001b[0mtemp_arg\u001b[0m \u001b[0;32min\u001b[0m \u001b[0mtemp_args\u001b[0m\u001b[0;34m:\u001b[0m\u001b[0;34m\u001b[0m\u001b[0;34m\u001b[0m\u001b[0m\n",
      "\u001b[0;32m~/apache-spark/spark-2.4.2-bin-hadoop2.7/python/pyspark/sql/utils.py\u001b[0m in \u001b[0;36mdeco\u001b[0;34m(*a, **kw)\u001b[0m\n\u001b[1;32m     67\u001b[0m                                              e.java_exception.getStackTrace()))\n\u001b[1;32m     68\u001b[0m             \u001b[0;32mif\u001b[0m \u001b[0ms\u001b[0m\u001b[0;34m.\u001b[0m\u001b[0mstartswith\u001b[0m\u001b[0;34m(\u001b[0m\u001b[0;34m'org.apache.spark.sql.AnalysisException: '\u001b[0m\u001b[0;34m)\u001b[0m\u001b[0;34m:\u001b[0m\u001b[0;34m\u001b[0m\u001b[0;34m\u001b[0m\u001b[0m\n\u001b[0;32m---> 69\u001b[0;31m                 \u001b[0;32mraise\u001b[0m \u001b[0mAnalysisException\u001b[0m\u001b[0;34m(\u001b[0m\u001b[0ms\u001b[0m\u001b[0;34m.\u001b[0m\u001b[0msplit\u001b[0m\u001b[0;34m(\u001b[0m\u001b[0;34m': '\u001b[0m\u001b[0;34m,\u001b[0m \u001b[0;36m1\u001b[0m\u001b[0;34m)\u001b[0m\u001b[0;34m[\u001b[0m\u001b[0;36m1\u001b[0m\u001b[0;34m]\u001b[0m\u001b[0;34m,\u001b[0m \u001b[0mstackTrace\u001b[0m\u001b[0;34m)\u001b[0m\u001b[0;34m\u001b[0m\u001b[0;34m\u001b[0m\u001b[0m\n\u001b[0m\u001b[1;32m     70\u001b[0m             \u001b[0;32mif\u001b[0m \u001b[0ms\u001b[0m\u001b[0;34m.\u001b[0m\u001b[0mstartswith\u001b[0m\u001b[0;34m(\u001b[0m\u001b[0;34m'org.apache.spark.sql.catalyst.analysis'\u001b[0m\u001b[0;34m)\u001b[0m\u001b[0;34m:\u001b[0m\u001b[0;34m\u001b[0m\u001b[0;34m\u001b[0m\u001b[0m\n\u001b[1;32m     71\u001b[0m                 \u001b[0;32mraise\u001b[0m \u001b[0mAnalysisException\u001b[0m\u001b[0;34m(\u001b[0m\u001b[0ms\u001b[0m\u001b[0;34m.\u001b[0m\u001b[0msplit\u001b[0m\u001b[0;34m(\u001b[0m\u001b[0;34m': '\u001b[0m\u001b[0;34m,\u001b[0m \u001b[0;36m1\u001b[0m\u001b[0;34m)\u001b[0m\u001b[0;34m[\u001b[0m\u001b[0;36m1\u001b[0m\u001b[0;34m]\u001b[0m\u001b[0;34m,\u001b[0m \u001b[0mstackTrace\u001b[0m\u001b[0;34m)\u001b[0m\u001b[0;34m\u001b[0m\u001b[0;34m\u001b[0m\u001b[0m\n",
      "\u001b[0;31mAnalysisException\u001b[0m: 'Cannot resolve column name \"is_connected\" among (_c0, GROUND_TRUTH, PHENOTYPE_ID, CONCEPT_ID_1, CONCEPT_ID_2, CONCEPT_NAME_1, CONCEPT_NAME_2, SAME_DOMAIN, IS_PARENT, IS_ANCESTOR, MIN_DISTANCE, IS_SIBLING_W_SAME_PARENT, RISK_DIFF, RISK_RATIO, RN1);'"
     ]
    }
   ],
   "source": [
    "training_data.join(output_features, (training_data[\"concept_id_1\"] == output_features[\"concept_id_1\"]) \n",
    "                   & (training_data[\"concept_id_2\"] == output_features[\"concept_id_2\"]), \"left_outer\") \\\n",
    "    .select([training_data[\"concept_id_1\"], training_data[\"concept_id_2\"], training_data[\"is_connected\"]] + [output_features[f] for f in output_features.schema.fieldNames()]) \\\n",
    "    .where(\"is_connected == 1 AND MICA == 0.0\").show(500, False)"
   ]
  },
  {
   "cell_type": "code",
   "execution_count": null,
   "metadata": {},
   "outputs": [],
   "source": []
  },
  {
   "cell_type": "code",
   "execution_count": null,
   "metadata": {},
   "outputs": [],
   "source": []
  },
  {
   "cell_type": "code",
   "execution_count": null,
   "metadata": {},
   "outputs": [],
   "source": []
  },
  {
   "cell_type": "code",
   "execution_count": null,
   "metadata": {},
   "outputs": [],
   "source": []
  },
  {
   "cell_type": "code",
   "execution_count": null,
   "metadata": {},
   "outputs": [],
   "source": []
  },
  {
   "cell_type": "code",
   "execution_count": null,
   "metadata": {},
   "outputs": [],
   "source": []
  },
  {
   "cell_type": "code",
   "execution_count": null,
   "metadata": {},
   "outputs": [],
   "source": []
  },
  {
   "cell_type": "code",
   "execution_count": null,
   "metadata": {},
   "outputs": [],
   "source": []
  },
  {
   "cell_type": "code",
   "execution_count": 36,
   "metadata": {},
   "outputs": [],
   "source": [
    "output_features = output_features.join(graph_ic_measure, (output_features['concept_id_1'] == graph_ic_measure['concept_id_1']) & (output_features['concept_id_2'] == graph_ic_measure['concept_id_2']), \"left_outer\") \\\n",
    "                        .select([output_features[field] for field in output_features.schema.fieldNames()] + [graph_ic_measure[\"graph_ic_measure\"]])"
   ]
  },
  {
   "cell_type": "code",
   "execution_count": null,
   "metadata": {},
   "outputs": [],
   "source": []
  },
  {
   "cell_type": "code",
   "execution_count": 37,
   "metadata": {},
   "outputs": [
    {
     "data": {
      "text/plain": [
       "DataFrame[concept_id_1: string, concept_id_2: string, MICA: double, lin_measure: double, jiang_measure: double, relevance_measure: double, information_coefficient: double, graph_ic_measure: double]"
      ]
     },
     "execution_count": 37,
     "metadata": {},
     "output_type": "execute_result"
    }
   ],
   "source": [
    "output_features.cache()"
   ]
  },
  {
   "cell_type": "code",
   "execution_count": 43,
   "metadata": {},
   "outputs": [
    {
     "name": "stdout",
     "output_type": "stream",
     "text": [
      "+------------+------------+------------------+--------------------+-------------------+--------------------+-----------------------+--------------------+\n",
      "|concept_id_1|concept_id_2|              MICA|         lin_measure|      jiang_measure|   relevance_measure|information_coefficient|    graph_ic_measure|\n",
      "+------------+------------+------------------+--------------------+-------------------+--------------------+-----------------------+--------------------+\n",
      "|      133024|      194106| 1.142749702651699|                null|               null|                null|                   null|0.023897257101755286|\n",
      "|      133024|      194106|1.9166477392922043|                null|               null|                null|                   null|0.023897257101755286|\n",
      "|      133024|      194106|2.5638212271406142|                null|               null|                null|                   null|0.023897257101755286|\n",
      "|      133024|      194106|2.1319522132688857|                null|               null|                null|                   null|0.023897257101755286|\n",
      "|      133024|      194106| 4.124573033981115|                null|               null|                null|                   null|0.023897257101755286|\n",
      "|      133024|      194106|1.5713285777729744|                null|               null|                null|                   null|0.023897257101755286|\n",
      "|      133024|      194106|1.9153341677878546|                null|               null|                null|                   null|0.023897257101755286|\n",
      "|      133024|      194106|1.1369685806144145|                null|               null|                null|                   null|0.023897257101755286|\n",
      "|      133024|      194106|1.5714228457735622|                null|               null|                null|                   null|0.023897257101755286|\n",
      "|      133024|      194106|2.2145516486792562|                null|               null|                null|                   null|0.023897257101755286|\n",
      "|      133024|      194106| 1.139465675119548|                null|               null|                null|                   null|0.023897257101755286|\n",
      "|     2100713|     2106346| 3.000369102057214|                null|               null|                null|                   null| 0.03041610257519129|\n",
      "|     2100713|     2106346| 2.195286879395033|                null|               null|                null|                   null| 0.03041610257519129|\n",
      "|     2100713|     2106346|1.8501299587384414|                null|               null|                null|                   null| 0.03041610257519129|\n",
      "|     2100713|     2106346|1.9705938619451044|                null|               null|                null|                   null| 0.03041610257519129|\n",
      "|     2100713|     2106346| 3.206762635206206|                null|               null|                null|                   null| 0.03041610257519129|\n",
      "|     2002662|     2106346| 4.069195253897602|                null|               null|                null|                   null|0.051710104410868145|\n",
      "|     2002662|     2106346|1.9705938619451044|                null|               null|                null|                   null|0.051710104410868145|\n",
      "|     2002662|     2106346|1.8501299587384414|                null|               null|                null|                   null|0.051710104410868145|\n",
      "|     2002662|     2106346|2.8520023645975345|                null|               null|                null|                   null|0.051710104410868145|\n",
      "|     2002662|     2106346| 4.013857378463909|                null|               null|                null|                   null|0.051710104410868145|\n",
      "|     2002662|     2106346|2.5418336370477927|                null|               null|                null|                   null|0.051710104410868145|\n",
      "|     2002662|     2106346| 3.000369102057214|                null|               null|                null|                   null|0.051710104410868145|\n",
      "|     2002662|     2106346| 3.206762635206206|                null|               null|                null|                   null|0.051710104410868145|\n",
      "|     2002662|     2106346| 3.404789278017414|                null|               null|                null|                   null|0.051710104410868145|\n",
      "|      444048|     2106346| 3.000369102057214|                null|               null|                null|                   null|0.004985882544827741|\n",
      "|     2101846|     2106346|1.9705938619451044|                null|               null|                null|                   null|0.017343961121057343|\n",
      "|     2101846|     2106346| 2.195286879395033|                null|               null|                null|                   null|0.017343961121057343|\n",
      "|     2101846|     2106346|1.8501299587384414|                null|               null|                null|                   null|0.017343961121057343|\n",
      "|     2106138|     2106346| 4.300515469049902|                null|               null|                null|                   null| 0.18332107749976298|\n",
      "|     2106138|     2106346| 6.228516884683412|                null|               null|                null|                   null| 0.18332107749976298|\n",
      "|     2106138|     2106346| 2.195286879395033|                null|               null|                null|                   null| 0.18332107749976298|\n",
      "|     2106138|     2106346| 4.759878774540888|                null|               null|                null|                   null| 0.18332107749976298|\n",
      "|     2106138|     2106346| 4.013857378463909|                null|               null|                null|                   null| 0.18332107749976298|\n",
      "|     2106138|     2106346| 7.506494916429116|                null|               null|                null|                   null| 0.18332107749976298|\n",
      "|     2106138|     2106346| 6.872300624380462|                null|               null|                null|                   null| 0.18332107749976298|\n",
      "|     2106138|     2106346| 7.506494916429116|                null|               null|                null|                   null| 0.18332107749976298|\n",
      "|     2106138|     2106346|1.9705938619451044|                null|               null|                null|                   null| 0.18332107749976298|\n",
      "|     2106138|     2106346|1.8501299587384414|                null|               null|                null|                   null| 0.18332107749976298|\n",
      "|     2106138|     2106346|2.5418336370477927|                null|               null|                null|                   null| 0.18332107749976298|\n",
      "|     2106138|     2106346| 5.024583563963196|                null|               null|                null|                   null| 0.18332107749976298|\n",
      "|     2106138|     2106346| 7.325871129456409|                null|               null|                null|                   null| 0.18332107749976298|\n",
      "|     2106138|     2106346| 3.404789278017414|                null|               null|                null|                   null| 0.18332107749976298|\n",
      "|     2106138|     2106346| 3.000369102057214|                null|               null|                null|                   null| 0.18332107749976298|\n",
      "|     2106138|     2106346| 3.206762635206206|                null|               null|                null|                   null| 0.18332107749976298|\n",
      "|     2106138|     2106346| 7.506274080564474|                null|               null|                null|                   null| 0.18332107749976298|\n",
      "|     2106138|     2106346| 6.935680820751294|                null|               null|                null|                   null| 0.18332107749976298|\n",
      "|     2106138|     2106346| 4.069195253897602|                null|               null|                null|                   null| 0.18332107749976298|\n",
      "|     2001522|     2106346| 3.206762635206206|                null|               null|                null|                   null|  0.0635078811395183|\n",
      "|     2001522|     2106346| 7.527342758757965|                null|               null|                null|                   null|  0.0635078811395183|\n",
      "|     2001522|     2106346|2.5418336370477927|                null|               null|                null|                   null|  0.0635078811395183|\n",
      "|     2001522|     2106346|1.9705938619451044|                null|               null|                null|                   null|  0.0635078811395183|\n",
      "|     2001522|     2106346| 4.069195253897602|                null|               null|                null|                   null|  0.0635078811395183|\n",
      "|     2001522|     2106346| 4.013857378463909|                null|               null|                null|                   null|  0.0635078811395183|\n",
      "|     2001522|     2106346|2.8520023645975345|                null|               null|                null|                   null|  0.0635078811395183|\n",
      "|     2001522|     2106346| 3.404789278017414|                null|               null|                null|                   null|  0.0635078811395183|\n",
      "|     2001522|     2106346|1.8501299587384414|                null|               null|                null|                   null|  0.0635078811395183|\n",
      "|     2001522|     2106346| 3.000369102057214|                null|               null|                null|                   null|  0.0635078811395183|\n",
      "|     2003370|     2110306|2.5418336370477927|                null|               null|                null|                   null| 0.10859897651737753|\n",
      "|     2003370|     2110306| 5.433115460854959|                null|               null|                null|                   null| 0.10859897651737753|\n",
      "|     2003370|     2110306|3.2961210133635745|                null|               null|                null|                   null| 0.10859897651737753|\n",
      "|     2003370|     2110306| 3.206762635206206|                null|               null|                null|                   null| 0.10859897651737753|\n",
      "|     2003370|     2110306| 5.433115460854959|                null|               null|                null|                   null| 0.10859897651737753|\n",
      "|     2003370|     2110306| 4.013857378463909|                null|               null|                null|                   null| 0.10859897651737753|\n",
      "|     2003370|     2110306|1.8501299587384414|                null|               null|                null|                   null| 0.10859897651737753|\n",
      "|     2003370|     2110306| 5.302156598746557|                null|               null|                null|                   null| 0.10859897651737753|\n",
      "|     2003370|     2110306| 5.431968069540397|                null|               null|                null|                   null| 0.10859897651737753|\n",
      "|     2003370|     2110306| 3.404789278017414|                null|               null|                null|                   null| 0.10859897651737753|\n",
      "|     2003370|     2110306|3.1360185427262577|                null|               null|                null|                   null| 0.10859897651737753|\n",
      "|     2003370|     2110306|1.9705938619451044|                null|               null|                null|                   null| 0.10859897651737753|\n",
      "|     2003370|     2110306| 4.858230918231469|                null|               null|                null|                   null| 0.10859897651737753|\n",
      "|     2003370|     2110306|2.8520023645975345|                null|               null|                null|                   null| 0.10859897651737753|\n",
      "|     2003370|     2110306| 4.069195253897602|                null|               null|                null|                   null| 0.10859897651737753|\n",
      "|     2003370|     2110306| 3.000369102057214|                null|               null|                null|                   null| 0.10859897651737753|\n",
      "|     2003370|     2110306|4.3028950243740205|                null|               null|                null|                   null| 0.10859897651737753|\n",
      "|     2109825|     2110306|2.5418336370477927|                null|               null|                null|                   null| 0.09837433568238735|\n",
      "|     2109825|     2110306|1.9705938619451044|                null|               null|                null|                   null| 0.09837433568238735|\n",
      "|     2109825|     2110306| 4.069195253897602|                null|               null|                null|                   null| 0.09837433568238735|\n",
      "|     2109825|     2110306|2.8520023645975345|                null|               null|                null|                   null| 0.09837433568238735|\n",
      "|     2109825|     2110306| 3.404789278017414|                null|               null|                null|                   null| 0.09837433568238735|\n",
      "|     2109825|     2110306| 5.433115460854959|                null|               null|                null|                   null| 0.09837433568238735|\n",
      "|     2109825|     2110306| 4.858230918231469|                null|               null|                null|                   null| 0.09837433568238735|\n",
      "|     2109825|     2110306| 4.013857378463909|                null|               null|                null|                   null| 0.09837433568238735|\n",
      "|     2109825|     2110306| 5.433115460854959|                null|               null|                null|                   null| 0.09837433568238735|\n",
      "|     2109825|     2110306| 3.206762635206206|                null|               null|                null|                   null| 0.09837433568238735|\n",
      "|     2109825|     2110306| 4.772219077776249|                null|               null|                null|                   null| 0.09837433568238735|\n",
      "|     2109825|     2110306| 5.302156598746557|                null|               null|                null|                   null| 0.09837433568238735|\n",
      "|     2109825|     2110306|3.1360185427262577|                null|               null|                null|                   null| 0.09837433568238735|\n",
      "|     2109825|     2110306| 5.431968069540397|                null|               null|                null|                   null| 0.09837433568238735|\n",
      "|     2109825|     2110306| 4.451131302679346|                null|               null|                null|                   null| 0.09837433568238735|\n",
      "|     2109825|     2110306|3.2961210133635745|                null|               null|                null|                   null| 0.09837433568238735|\n",
      "|     2109825|     2110306| 4.321799042060512|                null|               null|                null|                   null| 0.09837433568238735|\n",
      "|     2109825|     2110306| 3.000369102057214|                null|               null|                null|                   null| 0.09837433568238735|\n",
      "|     2109825|     2110306|4.3028950243740205|                null|               null|                null|                   null| 0.09837433568238735|\n",
      "|     2109825|     2110306| 2.195286879395033|                null|               null|                null|                   null| 0.09837433568238735|\n",
      "|     2109825|     2110306| 4.300515469049902|                null|               null|                null|                   null| 0.09837433568238735|\n",
      "|     2109825|     2110306| 3.755429365696939|                null|               null|                null|                   null| 0.09837433568238735|\n",
      "|     2109825|     2110306|5.7638647813920345|                null|               null|                null|                   null| 0.09837433568238735|\n",
      "|     2109825|     2110306|1.8501299587384414|                null|               null|                null|                   null| 0.09837433568238735|\n",
      "|     2109825|     2110306| 6.200179230897681|                null|               null|                null|                   null| 0.09837433568238735|\n",
      "|      435869|     2110306| 5.080162161790014|                null|               null|                null|                   null|0.020618807996519082|\n",
      "|      435869|     2110306| 3.000369102057214|                null|               null|                null|                   null|0.020618807996519082|\n",
      "|      436747|     2110306| 5.080162161790014|                null|               null|                null|                   null|0.019327084690956953|\n",
      "|      436747|     2110306| 3.000369102057214|                null|               null|                null|                   null|0.019327084690956953|\n",
      "|      434708|     2211584|1.1369685806144145|                null|               null|                null|                   null|0.006346342830461704|\n",
      "|      434708|     2211584| 1.139465675119548|                null|               null|                null|                   null|0.006346342830461704|\n",
      "|      434708|     2211584| 1.142749702651699|                null|               null|                null|                   null|0.006346342830461704|\n",
      "|      259043|     2211584| 1.139465675119548|                null|               null|                null|                   null|0.004604422925344309|\n",
      "|      259043|     2211584|1.1369685806144145|                null|               null|                null|                   null|0.004604422925344309|\n",
      "|      259043|     2211584| 1.142749702651699|                null|               null|                null|                   null|0.004604422925344309|\n",
      "|      194711|     2211584| 1.139465675119548|                null|               null|                null|                   null|0.006600918145463...|\n",
      "|      194711|     2211584|1.1369685806144145|                null|               null|                null|                   null|0.006600918145463...|\n",
      "|      194711|     2211584| 1.142749702651699|                null|               null|                null|                   null|0.006600918145463...|\n",
      "|     2106402|     2211584| 1.142749702651699|                null|               null|                null|                   null|  0.0289789399439993|\n",
      "|     2106402|     2211584| 2.316892119770872|                null|               null|                null|                   null|  0.0289789399439993|\n",
      "|     2106402|     2211584| 3.349040968386671|                null|               null|                null|                   null|  0.0289789399439993|\n",
      "|     2106402|     2211584|1.1369685806144145|                null|               null|                null|                   null|  0.0289789399439993|\n",
      "|     2106402|     2211584|1.8501299587384414|                null|               null|                null|                   null|  0.0289789399439993|\n",
      "|     2106402|     2211584| 2.195286879395033|                null|               null|                null|                   null|  0.0289789399439993|\n",
      "|     2106402|     2211584|2.5418336370477927|                null|               null|                null|                   null|  0.0289789399439993|\n",
      "|     2106402|     2211584|3.1360185427262577|                null|               null|                null|                   null|  0.0289789399439993|\n",
      "|     2106402|     2211584|2.3362286681272706|                null|               null|                null|                   null|  0.0289789399439993|\n",
      "|     2106402|     2211584| 1.139465675119548|                null|               null|                null|                   null|  0.0289789399439993|\n",
      "|     2106402|     2211584|2.8520023645975345|                null|               null|                null|                   null|  0.0289789399439993|\n",
      "|     2106402|     2211584|1.9705938619451044|                null|               null|                null|                   null|  0.0289789399439993|\n",
      "|      260135|     2211584| 1.139465675119548|                null|               null|                null|                   null|0.004768846912198...|\n",
      "|      260135|     2211584| 1.142749702651699|                null|               null|                null|                   null|0.004768846912198...|\n",
      "|      260135|     2211584|1.1369685806144145|                null|               null|                null|                   null|0.004768846912198...|\n",
      "|      138484|     2211584|1.1369685806144145|                null|               null|                null|                   null|0.007020731425262151|\n",
      "|      138484|     2211584| 1.139465675119548|                null|               null|                null|                   null|0.007020731425262151|\n",
      "|      138484|     2211584| 1.142749702651699|                null|               null|                null|                   null|0.007020731425262151|\n",
      "|      193825|     2211584|1.1369685806144145|                null|               null|                null|                   null|0.003738379599489839|\n",
      "|      193825|     2211584| 1.139465675119548|                null|               null|                null|                   null|0.003738379599489839|\n",
      "|      193825|     2211584| 1.142749702651699|                null|               null|                null|                   null|0.003738379599489839|\n",
      "|      443757|     2211584|1.1369685806144145|                null|               null|                null|                   null|0.005011477401449122|\n",
      "|      443757|     2211584| 1.142749702651699|                null|               null|                null|                   null|0.005011477401449122|\n",
      "|      443757|     2211584| 1.139465675119548|                null|               null|                null|                   null|0.005011477401449122|\n",
      "|     2101653|     2211584|1.9705938619451044|                null|               null|                null|                   null|  0.0124360180023157|\n",
      "|     2101653|     2211584| 2.195286879395033|                null|               null|                null|                   null|  0.0124360180023157|\n",
      "|     2101653|     2211584|1.8501299587384414|                null|               null|                null|                   null|  0.0124360180023157|\n",
      "|       72266|     2211584|1.1369685806144145|                null|               null|                null|                   null|0.003949127907605...|\n",
      "|       72266|     2211584| 1.142749702651699|                null|               null|                null|                   null|0.003949127907605...|\n",
      "|       72266|     2211584| 1.139465675119548|                null|               null|                null|                   null|0.003949127907605...|\n",
      "|      199747|     2211584| 1.139465675119548|                null|               null|                null|                   null|0.003994241381438793|\n",
      "|      199747|     2211584|1.1369685806144145|                null|               null|                null|                   null|0.003994241381438793|\n",
      "|      199747|     2211584| 1.142749702651699|                null|               null|                null|                   null|0.003994241381438793|\n",
      "|      317895|     2211584|1.1369685806144145|                null|               null|                null|                   null|0.006544882631107701|\n",
      "|      317895|     2211584| 1.142749702651699|                null|               null|                null|                   null|0.006544882631107701|\n",
      "|      317895|     2211584| 1.139465675119548|                null|               null|                null|                   null|0.006544882631107701|\n",
      "|      315831|     2211584| 1.142749702651699|                null|               null|                null|                   null|0.005305574129637218|\n",
      "|      315831|     2211584| 1.139465675119548|                null|               null|                null|                   null|0.005305574129637218|\n",
      "|      315831|     2211584|1.1369685806144145|                null|               null|                null|                   null|0.005305574129637218|\n",
      "|      437931|     2211584|1.1369685806144145|                null|               null|                null|                   null|0.007357223939708472|\n",
      "|      437931|     2211584| 1.142749702651699|                null|               null|                null|                   null|0.007357223939708472|\n",
      "|      437931|     2211584| 1.139465675119548|                null|               null|                null|                   null|0.007357223939708472|\n",
      "|      133727|     2211584| 1.142749702651699|                null|               null|                null|                   null|0.006346113336345551|\n",
      "|      133727|     2211584| 1.139465675119548|                null|               null|                null|                   null|0.006346113336345551|\n",
      "|      133727|     2211584|1.1369685806144145|                null|               null|                null|                   null|0.006346113336345551|\n",
      "|      432975|     2211584|1.1369685806144145|                null|               null|                null|                   null| 0.00603311348014732|\n",
      "|      432975|     2211584| 1.142749702651699|                null|               null|                null|                   null| 0.00603311348014732|\n",
      "|      432975|     2211584| 1.139465675119548|                null|               null|                null|                   null| 0.00603311348014732|\n",
      "|      313011|     2211584| 1.139465675119548|                null|               null|                null|                   null|0.004731077677273796|\n",
      "|      313011|     2211584|1.1369685806144145|                null|               null|                null|                   null|0.004731077677273796|\n",
      "|      313011|     2211584| 1.142749702651699|                null|               null|                null|                   null|0.004731077677273796|\n",
      "|      192242|     2211596| 1.142749702651699|                null|               null|                null|                   null|0.007377420544260275|\n",
      "|      192242|     2211596|1.1369685806144145|                null|               null|                null|                   null|0.007377420544260275|\n",
      "|      192242|     2211596| 1.139465675119548|                null|               null|                null|                   null|0.007377420544260275|\n",
      "|     2004707|     2211596|1.8501299587384414|                null|               null|                null|                   null|0.017668376043903988|\n",
      "|     2004707|     2211596|1.9705938619451044|                null|               null|                null|                   null|0.017668376043903988|\n",
      "|      314463|     2211596| 1.142749702651699|                null|               null|                null|                   null|0.006967736626887...|\n",
      "|      314463|     2211596| 1.139465675119548|                null|               null|                null|                   null|0.006967736626887...|\n",
      "|      314463|     2211596|1.1369685806144145|                null|               null|                null|                   null|0.006967736626887...|\n",
      "|     2110372|     2211596|1.8501299587384414|                null|               null|                null|                   null|0.021152266871818662|\n",
      "|     2110372|     2211596| 2.195286879395033|                null|               null|                null|                   null|0.021152266871818662|\n",
      "|     2110372|     2211596|1.9705938619451044|                null|               null|                null|                   null|0.021152266871818662|\n",
      "|       81357|     2211596| 1.139465675119548|                null|               null|                null|                   null|0.012076566223287039|\n",
      "|       81357|     2211596|1.1369685806144145|                null|               null|                null|                   null|0.012076566223287039|\n",
      "|       81357|     2211596| 1.142749702651699|                null|               null|                null|                   null|0.012076566223287039|\n",
      "|       78987|     2211596| 1.139465675119548|                null|               null|                null|                   null|0.009254706779707881|\n",
      "|       78987|     2211596| 1.142749702651699|                null|               null|                null|                   null|0.009254706779707881|\n",
      "|       78987|     2211596|1.1369685806144145|                null|               null|                null|                   null|0.009254706779707881|\n",
      "|     2109045|     2211596|1.9705938619451044|                null|               null|                null|                   null| 0.00966951430667695|\n",
      "|     2109045|     2211596|1.8501299587384414|                null|               null|                null|                   null| 0.00966951430667695|\n",
      "|     2109045|     2211596| 2.195286879395033|                null|               null|                null|                   null| 0.00966951430667695|\n",
      "|      434427|     2211596| 1.139465675119548|                null|               null|                null|                   null|0.014781643525853936|\n",
      "|      434427|     2211596|1.1369685806144145|                null|               null|                null|                   null|0.014781643525853936|\n",
      "|      434427|     2211596| 1.142749702651699|                null|               null|                null|                   null|0.014781643525853936|\n",
      "|      315881|     2211596| 1.139465675119548|                null|               null|                null|                   null|0.012913212583160805|\n",
      "|      315881|     2211596|1.1369685806144145|                null|               null|                null|                   null|0.012913212583160805|\n",
      "|      315881|     2211596| 1.142749702651699|                null|               null|                null|                   null|0.012913212583160805|\n",
      "|     2110290|     2211596| 1.142749702651699|                null|               null|                null|                   null| 0.09902507842849077|\n",
      "|     2110290|     2211596| 2.316892119770872|                null|               null|                null|                   null| 0.09902507842849077|\n",
      "|     2110290|     2211596|1.1369685806144145|                null|               null|                null|                   null| 0.09902507842849077|\n",
      "|     2110290|     2211596|1.8501299587384414|                null|               null|                null|                   null| 0.09902507842849077|\n",
      "|     2110290|     2211596|2.3362286681272706|                null|               null|                null|                   null| 0.09902507842849077|\n",
      "|     2110290|     2211596| 1.139465675119548|                null|               null|                null|                   null| 0.09902507842849077|\n",
      "|     2110290|     2211596| 2.195286879395033|                null|               null|                null|                   null| 0.09902507842849077|\n",
      "|     2110290|     2211596| 3.413642734069666|                null|               null|                null|                   null| 0.09902507842849077|\n",
      "|     2110290|     2211596|1.9705938619451044|                null|               null|                null|                   null| 0.09902507842849077|\n",
      "|      443246|     2211596| 1.142749702651699|                null|               null|                null|                   null|0.014791792700183229|\n",
      "|      443246|     2211596|1.1369685806144145|                null|               null|                null|                   null|0.014791792700183229|\n",
      "|      443246|     2211596| 1.139465675119548|                null|               null|                null|                   null|0.014791792700183229|\n",
      "|      192376|     2211596| 1.139465675119548|                null|               null|                null|                   null| 0.01481293693421111|\n",
      "|      192376|     2211596|1.1369685806144145|                null|               null|                null|                   null| 0.01481293693421111|\n",
      "|      192376|     2211596| 1.142749702651699|                null|               null|                null|                   null| 0.01481293693421111|\n",
      "|      441776|     2211596| 1.142749702651699|                null|               null|                null|                   null|0.005379761734893624|\n",
      "|      441776|     2211596| 1.139465675119548|                null|               null|                null|                   null|0.005379761734893624|\n",
      "|      441776|     2211596|1.1369685806144145|                null|               null|                null|                   null|0.005379761734893624|\n",
      "|     2108427|     2211596|1.9705938619451044|                null|               null|                null|                   null|0.015059528126728413|\n",
      "|     2108427|     2211596| 2.195286879395033|                null|               null|                null|                   null|0.015059528126728413|\n",
      "|     2108427|     2211596|1.8501299587384414|                null|               null|                null|                   null|0.015059528126728413|\n",
      "|      139888|     2211596| 1.139465675119548|                null|               null|                null|                   null| 0.02184284204809266|\n",
      "|      139888|     2211596|1.1369685806144145|                null|               null|                null|                   null| 0.02184284204809266|\n",
      "|      139888|     2211596| 1.142749702651699|                null|               null|                null|                   null| 0.02184284204809266|\n",
      "|       26514|     2211596| 1.139465675119548|                null|               null|                null|                   null|0.013438820127437518|\n",
      "|       26514|     2211596|1.1369685806144145|                null|               null|                null|                   null|0.013438820127437518|\n",
      "|       26514|     2211596| 1.142749702651699|                null|               null|                null|                   null|0.013438820127437518|\n",
      "|      441643|     2211596|1.1369685806144145|                null|               null|                null|                   null|0.012758989563320807|\n",
      "|      441643|     2211596| 1.139465675119548|                null|               null|                null|                   null|0.012758989563320807|\n",
      "|      441643|     2211596| 1.142749702651699|                null|               null|                null|                   null|0.012758989563320807|\n",
      "|      315293|     2211596| 1.139465675119548|                null|               null|                null|                   null|0.010058428622966652|\n",
      "|      315293|     2211596| 1.142749702651699|                null|               null|                null|                   null|0.010058428622966652|\n",
      "|      315293|     2211596|1.1369685806144145|                null|               null|                null|                   null|0.010058428622966652|\n",
      "|      198496|     2211596|1.1369685806144145|                null|               null|                null|                   null|  0.0088680822791802|\n",
      "|      198496|     2211596| 1.139465675119548|                null|               null|                null|                   null|  0.0088680822791802|\n",
      "|      198496|     2211596| 1.142749702651699|                null|               null|                null|                   null|  0.0088680822791802|\n",
      "|      432256|     2211596| 1.142749702651699|                null|               null|                null|                   null|0.005454225551894997|\n",
      "|      432256|     2211596|1.1369685806144145|                null|               null|                null|                   null|0.005454225551894997|\n",
      "|      432256|     2211596| 1.139465675119548|                null|               null|                null|                   null|0.005454225551894997|\n",
      "|     2100872|     2211596| 2.195286879395033|                null|               null|                null|                   null|0.010841533097763284|\n",
      "|     2100872|     2211596|1.9705938619451044|                null|               null|                null|                   null|0.010841533097763284|\n",
      "|     2100872|     2211596|1.8501299587384414|                null|               null|                null|                   null|0.010841533097763284|\n",
      "|      197042|     2211596|1.1369685806144145|                null|               null|                null|                   null|0.009908362085829108|\n",
      "|      197042|     2211596| 1.139465675119548|                null|               null|                null|                   null|0.009908362085829108|\n",
      "|      197042|     2211596| 1.142749702651699|                null|               null|                null|                   null|0.009908362085829108|\n",
      "|      436947|     2211596| 1.142749702651699|                null|               null|                null|                   null|0.015775761897242085|\n",
      "|      436947|     2211596|1.1369685806144145|                null|               null|                null|                   null|0.015775761897242085|\n",
      "|      436947|     2211596| 1.139465675119548|                null|               null|                null|                   null|0.015775761897242085|\n",
      "|      200792|     2211596| 1.142749702651699|                null|               null|                null|                   null|0.011753367309867434|\n",
      "|      200792|     2211596|1.1369685806144145|                null|               null|                null|                   null|0.011753367309867434|\n",
      "|      200792|     2211596| 1.139465675119548|                null|               null|                null|                   null|0.011753367309867434|\n",
      "|     2101620|     2211596| 2.195286879395033|                null|               null|                null|                   null|0.035298653242618265|\n",
      "|     2101620|     2211596|1.8501299587384414|                null|               null|                null|                   null|0.035298653242618265|\n",
      "|     2101620|     2211596|1.9705938619451044|                null|               null|                null|                   null|0.035298653242618265|\n",
      "|      195981|     2211596| 1.142749702651699|                null|               null|                null|                   null| 0.01172029284263023|\n",
      "|      195981|     2211596|1.1369685806144145|                null|               null|                null|                   null| 0.01172029284263023|\n",
      "|      195981|     2211596| 1.139465675119548|                null|               null|                null|                   null| 0.01172029284263023|\n",
      "|     2100799|     2211596| 2.195286879395033|                null|               null|                null|                   null|0.030372241579582297|\n",
      "|     2100799|     2211596|1.8501299587384414|                null|               null|                null|                   null|0.030372241579582297|\n",
      "|     2100799|     2211596|1.9705938619451044|                null|               null|                null|                   null|0.030372241579582297|\n",
      "|      433168|     2211596|1.1369685806144145|                null|               null|                null|                   null| 0.01235484965483957|\n",
      "|      433168|     2211596| 1.139465675119548|                null|               null|                null|                   null| 0.01235484965483957|\n",
      "|      433168|     2211596| 1.142749702651699|                null|               null|                null|                   null| 0.01235484965483957|\n",
      "|      443330|     2211596| 1.142749702651699|                null|               null|                null|                   null|  0.0234105445530735|\n",
      "|      443330|     2211596| 1.139465675119548|                null|               null|                null|                   null|  0.0234105445530735|\n",
      "|      443330|     2211596|1.1369685806144145|                null|               null|                null|                   null|  0.0234105445530735|\n",
      "|      134414|     2211596| 1.139465675119548|                null|               null|                null|                   null|0.011014230587275835|\n",
      "|      134414|     2211596|1.1369685806144145|                null|               null|                null|                   null|0.011014230587275835|\n",
      "|      134414|     2211596| 1.142749702651699|                null|               null|                null|                   null|0.011014230587275835|\n",
      "|      438211|     2211596| 1.142749702651699|                null|               null|                null|                   null|0.017099999609912677|\n",
      "|      438211|     2211596| 1.139465675119548|                null|               null|                null|                   null|0.017099999609912677|\n",
      "|      438211|     2211596|1.1369685806144145|                null|               null|                null|                   null|0.017099999609912677|\n",
      "|      133956|     2211596|1.1369685806144145|                null|               null|                null|                   null|0.014310202147486593|\n",
      "|      133956|     2211596| 1.139465675119548|                null|               null|                null|                   null|0.014310202147486593|\n",
      "|      133956|     2211596| 1.142749702651699|                null|               null|                null|                   null|0.014310202147486593|\n",
      "|      433270|     2211596|1.1369685806144145|                null|               null|                null|                   null|0.014675915270008473|\n",
      "|      433270|     2211596| 1.139465675119548|                null|               null|                null|                   null|0.014675915270008473|\n",
      "|      433270|     2211596| 1.142749702651699|                null|               null|                null|                   null|0.014675915270008473|\n",
      "|      443705|     2211596| 1.139465675119548|                null|               null|                null|                   null| 0.01031255174457836|\n",
      "|      443705|     2211596|1.1369685806144145|                null|               null|                null|                   null| 0.01031255174457836|\n",
      "|      443705|     2211596| 1.142749702651699|                null|               null|                null|                   null| 0.01031255174457836|\n",
      "|      321314|     2211596| 1.139465675119548|                null|               null|                null|                   null| 0.00764521389491618|\n",
      "|      321314|     2211596|1.1369685806144145|                null|               null|                null|                   null| 0.00764521389491618|\n",
      "|      321314|     2211596| 1.142749702651699|                null|               null|                null|                   null| 0.00764521389491618|\n",
      "|      441085|     2211596| 1.139465675119548|                null|               null|                null|                   null|0.021212243176831506|\n",
      "|      441085|     2211596|1.1369685806144145|                null|               null|                null|                   null|0.021212243176831506|\n",
      "|      441085|     2211596| 1.142749702651699|                null|               null|                null|                   null|0.021212243176831506|\n",
      "|      439746|     2211596| 1.142749702651699|                null|               null|                null|                   null|0.004089994513883034|\n",
      "|      439746|     2211596|1.1369685806144145|                null|               null|                null|                   null|0.004089994513883034|\n",
      "|      439746|     2211596| 1.139465675119548|                null|               null|                null|                   null|0.004089994513883034|\n",
      "|     2101021|     2211596|1.9705938619451044|                null|               null|                null|                   null|0.028891109166521767|\n",
      "|     2101021|     2211596|1.8501299587384414|                null|               null|                null|                   null|0.028891109166521767|\n",
      "|     2101021|     2211596| 2.195286879395033|                null|               null|                null|                   null|0.028891109166521767|\n",
      "|      436766|     2211596|1.1369685806144145|                null|               null|                null|                   null| 0.00712991601121375|\n",
      "|      436766|     2211596| 1.142749702651699|                null|               null|                null|                   null| 0.00712991601121375|\n",
      "|      436766|     2211596| 1.139465675119548|                null|               null|                null|                   null| 0.00712991601121375|\n",
      "|      433990|     2211596| 1.139465675119548|                null|               null|                null|                   null| 0.01584631368323894|\n",
      "|      433990|     2211596|1.1369685806144145|                null|               null|                null|                   null| 0.01584631368323894|\n",
      "|      433990|     2211596| 1.142749702651699|                null|               null|                null|                   null| 0.01584631368323894|\n",
      "|     3012805|     3039854|1.7212062754921829|                null|               null|                null|                   null| 0.16615064443939004|\n",
      "|     3012805|     3039854|  2.01814735177832|                null|               null|                null|                   null| 0.16615064443939004|\n",
      "|     3012805|     3039854|0.9053933660359812|                null|               null|                null|                   null| 0.16615064443939004|\n",
      "|     3012805|     3039854| 7.122987038250066|                null|               null|                null|                   null| 0.16615064443939004|\n",
      "|     3027359|     3039854|0.9053933660359812|                null|               null|                null|                   null|0.010552443547677258|\n",
      "|     3013219|     3039854|  2.01814735177832|                null|               null|                null|                   null| 0.16615064443939004|\n",
      "|     3013219|     3039854|0.9053933660359812|                null|               null|                null|                   null| 0.16615064443939004|\n",
      "|     3013219|     3039854| 7.122987038250066|                null|               null|                null|                   null| 0.16615064443939004|\n",
      "|     3013219|     3039854|1.7212062754921829|                null|               null|                null|                   null| 0.16615064443939004|\n",
      "|     3019069|     3039854|0.9053933660359812|                null|               null|                null|                   null|0.008608998963050495|\n",
      "|     3022548|     3039854|0.9053933660359812|                null|               null|                null|                   null| 0.04923348545049829|\n",
      "|     3022548|     3039854|  2.01814735177832|                null|               null|                null|                   null| 0.04923348545049829|\n",
      "|     3022548|     3039854|1.7212062754921829|                null|               null|                null|                   null| 0.04923348545049829|\n",
      "|     3022285|     3039854| 7.122987038250066|                null|               null|                null|                   null| 0.16615064443939004|\n",
      "|     3022285|     3039854|1.7212062754921829|                null|               null|                null|                   null| 0.16615064443939004|\n",
      "|     3022285|     3039854|  2.01814735177832|                null|               null|                null|                   null| 0.16615064443939004|\n",
      "|     3022285|     3039854|0.9053933660359812|                null|               null|                null|                   null| 0.16615064443939004|\n",
      "|     3024644|     3039854|  2.01814735177832|                null|               null|                null|                   null| 0.16615064443939004|\n",
      "|     3024644|     3039854| 7.122987038250066|                null|               null|                null|                   null| 0.16615064443939004|\n",
      "|     3024644|     3039854|0.9053933660359812|                null|               null|                null|                   null| 0.16615064443939004|\n",
      "|     3024644|     3039854|1.7212062754921829|                null|               null|                null|                   null| 0.16615064443939004|\n",
      "|     3006289|     3039854| 7.122987038250066|                null|               null|                null|                   null| 0.16615064443939004|\n",
      "|     3006289|     3039854|  2.01814735177832|                null|               null|                null|                   null| 0.16615064443939004|\n",
      "|     3006289|     3039854|1.7212062754921829|                null|               null|                null|                   null| 0.16615064443939004|\n",
      "|     3006289|     3039854|0.9053933660359812|                null|               null|                null|                   null| 0.16615064443939004|\n",
      "|     3023520|     3039854|0.9053933660359812|                null|               null|                null|                   null| 0.00804873921287382|\n",
      "|     2106424|     4010271|2.8520023645975345|                null|               null|                null|                   null| 0.06278788221857472|\n",
      "|     2106424|     4010271| 5.024583563963196|                null|               null|                null|                   null| 0.06278788221857472|\n",
      "|     2106424|     4010271|1.9705938619451044|                null|               null|                null|                   null| 0.06278788221857472|\n",
      "|     2106424|     4010271| 4.759878774540888|                null|               null|                null|                   null| 0.06278788221857472|\n",
      "|     2106424|     4010271| 3.404789278017414|                null|               null|                null|                   null| 0.06278788221857472|\n",
      "|     2106424|     4010271| 3.000369102057214|                null|               null|                null|                   null| 0.06278788221857472|\n",
      "|     2106424|     4010271|1.8501299587384414|                null|               null|                null|                   null| 0.06278788221857472|\n",
      "|     2106424|     4010271| 3.206762635206206|                null|               null|                null|                   null| 0.06278788221857472|\n",
      "|     2106424|     4010271|2.5418336370477927|                null|               null|                null|                   null| 0.06278788221857472|\n",
      "|     2211621|     4010271| 3.000369102057214|                null|               null|                null|                   null| 0.03545778909260612|\n",
      "|     2211621|     4010271|1.9705938619451044|                null|               null|                null|                   null| 0.03545778909260612|\n",
      "|     2211621|     4010271|2.8520023645975345|                null|               null|                null|                   null| 0.03545778909260612|\n",
      "|     2211621|     4010271|1.8501299587384414|                null|               null|                null|                   null| 0.03545778909260612|\n",
      "|     2211621|     4010271|2.5418336370477927|                null|               null|                null|                   null| 0.03545778909260612|\n",
      "|     2002763|     4010271|2.5418336370477927|                null|               null|                null|                   null| 0.04601375890067754|\n",
      "|     2002763|     4010271| 3.000369102057214|                null|               null|                null|                   null| 0.04601375890067754|\n",
      "|     2002763|     4010271|1.9705938619451044|                null|               null|                null|                   null| 0.04601375890067754|\n",
      "|     2002763|     4010271| 3.206762635206206|                null|               null|                null|                   null| 0.04601375890067754|\n",
      "|     2002763|     4010271| 3.404789278017414|                null|               null|                null|                   null| 0.04601375890067754|\n",
      "|     2002763|     4010271|1.8501299587384414|                null|               null|                null|                   null| 0.04601375890067754|\n",
      "|     2002763|     4010271|2.8520023645975345|                null|               null|                null|                   null| 0.04601375890067754|\n",
      "|     2211875|     4010271|1.8501299587384414|                null|               null|                null|                   null|0.054055354279557065|\n",
      "|     2211875|     4010271| 3.404789278017414|                null|               null|                null|                   null|0.054055354279557065|\n",
      "|     2211875|     4010271| 3.000369102057214|                null|               null|                null|                   null|0.054055354279557065|\n",
      "|     2211875|     4010271| 3.206762635206206|                null|               null|                null|                   null|0.054055354279557065|\n",
      "|     2101671|     4010271| 3.000369102057214|                null|               null|                null|                   null|0.039071039168758405|\n",
      "|     2101671|     4010271| 3.206762635206206|                null|               null|                null|                   null|0.039071039168758405|\n",
      "|     2101671|     4010271|1.8501299587384414|                null|               null|                null|                   null|0.039071039168758405|\n",
      "|     2101671|     4010271|1.9705938619451044|                null|               null|                null|                   null|0.039071039168758405|\n",
      "|     2001521|     4010271|2.8520023645975345|                null|               null|                null|                   null|0.045743916500481714|\n",
      "|     2001521|     4010271| 3.206762635206206|                null|               null|                null|                   null|0.045743916500481714|\n",
      "|     2001521|     4010271| 3.404789278017414|                null|               null|                null|                   null|0.045743916500481714|\n",
      "|     2001521|     4010271|1.9705938619451044|                null|               null|                null|                   null|0.045743916500481714|\n",
      "|     2001521|     4010271|2.5418336370477927|                null|               null|                null|                   null|0.045743916500481714|\n",
      "|     2001521|     4010271|1.8501299587384414|                null|               null|                null|                   null|0.045743916500481714|\n",
      "|     2001521|     4010271| 3.000369102057214|                null|               null|                null|                   null|0.045743916500481714|\n",
      "|     2211604|     4010271|1.9705938619451044|                null|               null|                null|                   null|0.027364808063343855|\n",
      "|     2211604|     4010271|1.8501299587384414|                null|               null|                null|                   null|0.027364808063343855|\n",
      "|     2211604|     4010271|2.5418336370477927|                null|               null|                null|                   null|0.027364808063343855|\n",
      "|     2211604|     4010271|2.8520023645975345|                null|               null|                null|                   null|0.027364808063343855|\n",
      "|     2001523|     4010271|2.5418336370477927|                null|               null|                null|                   null|0.045743916500481714|\n",
      "|     2001523|     4010271| 3.000369102057214|                null|               null|                null|                   null|0.045743916500481714|\n",
      "|     2001523|     4010271| 3.404789278017414|                null|               null|                null|                   null|0.045743916500481714|\n",
      "|     2001523|     4010271|2.8520023645975345|                null|               null|                null|                   null|0.045743916500481714|\n",
      "|     2001523|     4010271|1.8501299587384414|                null|               null|                null|                   null|0.045743916500481714|\n",
      "|     2001523|     4010271|1.9705938619451044|                null|               null|                null|                   null|0.045743916500481714|\n",
      "|     2001523|     4010271| 3.206762635206206|                null|               null|                null|                   null|0.045743916500481714|\n",
      "|     2211464|     4010271|1.9705938619451044|                null|               null|                null|                   null| 0.03170035307509417|\n",
      "|     2211464|     4010271|2.5418336370477927|                null|               null|                null|                   null| 0.03170035307509417|\n",
      "|     2211464|     4010271|1.8501299587384414|                null|               null|                null|                   null| 0.03170035307509417|\n",
      "|     2211464|     4010271|2.8520023645975345|                null|               null|                null|                   null| 0.03170035307509417|\n",
      "|     2101710|     4010271|1.9705938619451044|                null|               null|                null|                   null|  0.0392669214444647|\n",
      "|     2101710|     4010271| 3.206762635206206|                null|               null|                null|                   null|  0.0392669214444647|\n",
      "|     2101710|     4010271|1.8501299587384414|                null|               null|                null|                   null|  0.0392669214444647|\n",
      "|     2101710|     4010271| 3.000369102057214|                null|               null|                null|                   null|  0.0392669214444647|\n",
      "|     2100961|     4010271| 3.000369102057214|                null|               null|                null|                   null| 0.03926677309919871|\n",
      "|     2100961|     4010271|1.8501299587384414|                null|               null|                null|                   null| 0.03926677309919871|\n",
      "|     2100961|     4010271| 3.206762635206206|                null|               null|                null|                   null| 0.03926677309919871|\n",
      "|     2100961|     4010271|1.9705938619451044|                null|               null|                null|                   null| 0.03926677309919871|\n",
      "|       74698|     4023797| 4.124573033981115|                null|               null|                null|                   null| 0.02107543209174645|\n",
      "|     2211595|     4023797|2.5418336370477927|                null|               null|                null|                   null|0.025237597497970953|\n",
      "|     2211595|     4023797|1.9705938619451044|                null|               null|                null|                   null|0.025237597497970953|\n",
      "|     2211595|     4023797|1.8501299587384414|                null|               null|                null|                   null|0.025237597497970953|\n",
      "|      321367|     4023797| 4.124573033981115|                null|               null|                null|                   null|0.012057277817594686|\n",
      "|      314426|     4023797| 4.124573033981115|                null|               null|                null|                   null| 0.00949344253515854|\n",
      "|     2514586|     4023797| 3.000369102057214|                null|               null|                null|                   null|0.021569938957549575|\n",
      "|     2514586|     4023797|1.8501299587384414|                null|               null|                null|                   null|0.021569938957549575|\n",
      "|     2514586|     4023797|1.9705938619451044|                null|               null|                null|                   null|0.021569938957549575|\n",
      "|     2101032|     4023797|1.8501299587384414|                null|               null|                null|                   null|0.027704086480690934|\n",
      "|     2101032|     4023797| 3.000369102057214|                null|               null|                null|                   null|0.027704086480690934|\n",
      "|     2101032|     4023797|1.9705938619451044|                null|               null|                null|                   null|0.027704086480690934|\n",
      "|     2313796|     4023797|2.5418336370477927|                null|               null|                null|                   null|0.029570392261929375|\n",
      "|     2313796|     4023797|1.8501299587384414|                null|               null|                null|                   null|0.029570392261929375|\n",
      "|     2313796|     4023797|1.9705938619451044|                null|               null|                null|                   null|0.029570392261929375|\n",
      "|     2313796|     4023797| 3.755429365696939|                null|               null|                null|                   null|0.029570392261929375|\n",
      "|      321315|    40480602|3.5307773285087993|                null|               null|                null|                   null|  0.2265611890189143|\n",
      "|      321315|    40480602|  4.52242462310322|                null|               null|                null|                   null|  0.2265611890189143|\n",
      "|      321315|    40480602|3.8050632066965036|                null|               null|                null|                   null|  0.2265611890189143|\n",
      "|      321315|    40480602|3.8904388108192407|                null|               null|                null|                   null|  0.2265611890189143|\n",
      "|      321315|    40480602| 4.432821163079416|                null|               null|                null|                   null|  0.2265611890189143|\n",
      "|      321315|    40480602|4.5676833354090585|                null|               null|                null|                   null|  0.2265611890189143|\n",
      "|      321315|    40480602|  3.88710588611641|                null|               null|                null|                   null|  0.2265611890189143|\n",
      "|      321315|    40480602|3.3614508133174006|                null|               null|                null|                   null|  0.2265611890189143|\n",
      "|      321315|    40480602|1.1369685806144145|                null|               null|                null|                   null|  0.2265611890189143|\n",
      "|      321315|    40480602| 3.738455310788725|                null|               null|                null|                   null|  0.2265611890189143|\n",
      "|      321315|    40480602| 4.404965747374434|                null|               null|                null|                   null|  0.2265611890189143|\n",
      "|      321315|    40480602|3.3214280951889545|                null|               null|                null|                   null|  0.2265611890189143|\n",
      "|      321315|    40480602|2.7993549992402973|                null|               null|                null|                   null|  0.2265611890189143|\n",
      "|      321315|    40480602|2.1319522132688857|                null|               null|                null|                   null|  0.2265611890189143|\n",
      "|      321315|    40480602|  4.52242462310322|                null|               null|                null|                   null|  0.2265611890189143|\n",
      "|      321315|    40480602| 1.139465675119548|                null|               null|                null|                   null|  0.2265611890189143|\n",
      "|      321315|    40480602|3.8981183822204675|                null|               null|                null|                   null|  0.2265611890189143|\n",
      "|      321315|    40480602| 4.431329185371153|                null|               null|                null|                   null|  0.2265611890189143|\n",
      "|      321315|    40480602|1.9153341677878546|                null|               null|                null|                   null|  0.2265611890189143|\n",
      "|      321315|    40480602|2.2145516486792562|                null|               null|                null|                   null|  0.2265611890189143|\n",
      "|      321315|    40480602|3.9555133686023036|                null|               null|                null|                   null|  0.2265611890189143|\n",
      "|      321315|    40480602|3.8981183822204675|                null|               null|                null|                   null|  0.2265611890189143|\n",
      "|      321315|    40480602|2.1480003784280775|                null|               null|                null|                   null|  0.2265611890189143|\n",
      "|      321315|    40480602|4.5676833354090585|                null|               null|                null|                   null|  0.2265611890189143|\n",
      "|      321315|    40480602|3.8932916740714667|                null|               null|                null|                   null|  0.2265611890189143|\n",
      "|      321315|    40480602|3.8247778278397653|                null|               null|                null|                   null|  0.2265611890189143|\n",
      "|      321315|    40480602| 1.142749702651699|                null|               null|                null|                   null|  0.2265611890189143|\n",
      "|      321315|    40480602| 3.711047914936264|                null|               null|                null|                   null|  0.2265611890189143|\n",
      "|      321315|    40480602|3.9248235539108487|                null|               null|                null|                   null|  0.2265611890189143|\n",
      "|      321315|    40480602| 3.898114143289905|                null|               null|                null|                   null|  0.2265611890189143|\n",
      "|      321315|    40480602| 4.378165050728459|                null|               null|                null|                   null|  0.2265611890189143|\n",
      "|      321315|    40480602| 3.118582456868694|                null|               null|                null|                   null|  0.2265611890189143|\n",
      "|      321315|    40480602| 3.035889967757371|                null|               null|                null|                   null|  0.2265611890189143|\n",
      "|      321315|    40480602|1.5713285777729744|                null|               null|                null|                   null|  0.2265611890189143|\n",
      "|      321315|    40480602|1.5714228457735622|                null|               null|                null|                   null|  0.2265611890189143|\n",
      "|      321315|    40480602|3.8478206368837102|                null|               null|                null|                   null|  0.2265611890189143|\n",
      "|      321315|    40480602|1.9166477392922043|                null|               null|                null|                   null|  0.2265611890189143|\n",
      "|      321315|    40480602|3.2036532616272666|                null|               null|                null|                   null|  0.2265611890189143|\n",
      "|     4108832|    40480602| 4.432821163079416|                null|               null|                null|                   null|  0.2485539590593039|\n",
      "|     4108832|    40480602|3.2036532616272666|                null|               null|                null|                   null|  0.2485539590593039|\n",
      "|     4108832|    40480602|3.3614508133174006|                null|               null|                null|                   null|  0.2485539590593039|\n",
      "|     4108832|    40480602|  4.52242462310322|                null|               null|                null|                   null|  0.2485539590593039|\n",
      "|     4108832|    40480602|3.8904388108192407|                null|               null|                null|                   null|  0.2485539590593039|\n",
      "|     4108832|    40480602|1.5714228457735622|                null|               null|                null|                   null|  0.2485539590593039|\n",
      "|     4108832|    40480602|  4.52242462310322|                null|               null|                null|                   null|  0.2485539590593039|\n",
      "|     4108832|    40480602|1.9153341677878546|                null|               null|                null|                   null|  0.2485539590593039|\n",
      "|     4108832|    40480602|3.8932916740714667|                null|               null|                null|                   null|  0.2485539590593039|\n",
      "|     4108832|    40480602|3.8050632066965036|                null|               null|                null|                   null|  0.2485539590593039|\n",
      "|     4108832|    40480602|3.8247778278397653|                null|               null|                null|                   null|  0.2485539590593039|\n",
      "|     4108832|    40480602| 3.118582456868694|                null|               null|                null|                   null|  0.2485539590593039|\n",
      "|     4108832|    40480602|4.5676833354090585|                null|               null|                null|                   null|  0.2485539590593039|\n",
      "|     4108832|    40480602|1.5713285777729744|                null|               null|                null|                   null|  0.2485539590593039|\n",
      "|     4108832|    40480602|2.2145516486792562|                null|               null|                null|                   null|  0.2485539590593039|\n",
      "|     4108832|    40480602|3.8478206368837102|                null|               null|                null|                   null|  0.2485539590593039|\n",
      "|     4108832|    40480602|2.1319522132688857|                null|               null|                null|                   null|  0.2485539590593039|\n",
      "|     4108832|    40480602|4.5676833354090585|                null|               null|                null|                   null|  0.2485539590593039|\n",
      "|     4108832|    40480602| 4.404965747374434|                null|               null|                null|                   null|  0.2485539590593039|\n",
      "|     4108832|    40480602|3.8981183822204675|                null|               null|                null|                   null|  0.2485539590593039|\n",
      "|     4108832|    40480602|3.5307773285087993|                null|               null|                null|                   null|  0.2485539590593039|\n",
      "|     4108832|    40480602|2.1480003784280775|                null|               null|                null|                   null|  0.2485539590593039|\n",
      "|     4108832|    40480602|  3.88710588611641|                null|               null|                null|                   null|  0.2485539590593039|\n",
      "|     4108832|    40480602| 4.378165050728459|                null|               null|                null|                   null|  0.2485539590593039|\n",
      "|     4108832|    40480602|1.1369685806144145|                null|               null|                null|                   null|  0.2485539590593039|\n",
      "|     4108832|    40480602| 3.711047914936264|                null|               null|                null|                   null|  0.2485539590593039|\n",
      "|     4108832|    40480602|3.9248235539108487|                null|               null|                null|                   null|  0.2485539590593039|\n",
      "|     4108832|    40480602|2.7993549992402973|                null|               null|                null|                   null|  0.2485539590593039|\n",
      "|     4108832|    40480602|3.8981183822204675|                null|               null|                null|                   null|  0.2485539590593039|\n",
      "|     4108832|    40480602| 3.738455310788725|                null|               null|                null|                   null|  0.2485539590593039|\n",
      "|     4108832|    40480602| 1.139465675119548|                null|               null|                null|                   null|  0.2485539590593039|\n",
      "|     4108832|    40480602|3.9555133686023036|                null|               null|                null|                   null|  0.2485539590593039|\n",
      "|     4108832|    40480602| 3.035889967757371|                null|               null|                null|                   null|  0.2485539590593039|\n",
      "|     4108832|    40480602| 3.898114143289905|                null|               null|                null|                   null|  0.2485539590593039|\n",
      "|     4108832|    40480602|1.9166477392922043|                null|               null|                null|                   null|  0.2485539590593039|\n",
      "|     4108832|    40480602|3.3214280951889545|                null|               null|                null|                   null|  0.2485539590593039|\n",
      "|     4108832|    40480602| 4.431329185371153|                null|               null|                null|                   null|  0.2485539590593039|\n",
      "|     4108832|    40480602| 1.142749702651699|                null|               null|                null|                   null|  0.2485539590593039|\n",
      "|       79240|    40480602|1.9166477392922043|0.023538068606968558|-20.906778023173164|0.020075636331497924|   0.015467821285061717| 0.02489521845703194|\n",
      "|       79240|    40480602|2.2145516486792562| 0.02719658264357815| -20.31097020439906| 0.02422664879718208|   0.018736123576214198| 0.02489521845703194|\n",
      "|       79240|    40480602|1.1369685806144145|0.013962943688521847| -22.46613634052874|0.009483771005385637|   0.007428947908149978| 0.02489521845703194|\n",
      "|       79240|    40480602| 1.139465675119548|0.013993610138373306|-22.461142151518477|0.009515795463550332|   0.007452906867874...| 0.02489521845703194|\n",
      "|       79240|    40480602|1.5714228457735622|0.019298412533559874| -21.59722781021045|0.015289179359543176|    0.01179345761520442| 0.02489521845703194|\n",
      "|       79240|    40480602|1.5713285777729744| 0.01929725484212822|-21.597416346211624|0.015287884240248528|   0.011792475013934675| 0.02489521845703194|\n",
      "|       79240|    40480602| 1.142749702651699| 0.01403394079683196|-22.454574096454174|0.009557944175462475|   0.007484440041113896| 0.02489521845703194|\n",
      "|       79240|    40480602|2.1319522132688857|0.026182191142349993|  -20.4761690752198|  0.0230768386315567|   0.017822487877585592| 0.02489521845703194|\n",
      "|       79240|    40480602|1.9153341677878546|0.023521936828783296|-20.909405166181863|0.020057329504084537|   0.015453586692911338| 0.02489521845703194|\n",
      "|      256810|    40480602| 1.139465675119548|                null|               null|                null|                   null|0.028527673223641036|\n",
      "|      256810|    40480602|2.2145516486792562|                null|               null|                null|                   null|0.028527673223641036|\n",
      "|      256810|    40480602|1.9166477392922043|                null|               null|                null|                   null|0.028527673223641036|\n",
      "|      256810|    40480602|2.1480003784280775|                null|               null|                null|                   null|0.028527673223641036|\n",
      "|      256810|    40480602|1.5713285777729744|                null|               null|                null|                   null|0.028527673223641036|\n",
      "|      256810|    40480602|1.9153341677878546|                null|               null|                null|                   null|0.028527673223641036|\n",
      "|      256810|    40480602|1.5714228457735622|                null|               null|                null|                   null|0.028527673223641036|\n",
      "|      256810|    40480602| 1.142749702651699|                null|               null|                null|                   null|0.028527673223641036|\n",
      "|      256810|    40480602|2.1319522132688857|                null|               null|                null|                   null|0.028527673223641036|\n",
      "|      256810|    40480602| 3.118582456868694|                null|               null|                null|                   null|0.028527673223641036|\n",
      "|      256810|    40480602|3.2036532616272666|                null|               null|                null|                   null|0.028527673223641036|\n",
      "|      256810|    40480602|1.1369685806144145|                null|               null|                null|                   null|0.028527673223641036|\n",
      "|      256810|    40480602|3.3214280951889545|                null|               null|                null|                   null|0.028527673223641036|\n",
      "|      314379|    40480602|1.5713285777729744|                null|               null|                null|                   null|  0.2475532210940423|\n",
      "|      314379|    40480602|3.9248235539108487|                null|               null|                null|                   null|  0.2475532210940423|\n",
      "|      314379|    40480602| 4.431329185371153|                null|               null|                null|                   null|  0.2475532210940423|\n",
      "|      314379|    40480602|2.2145516486792562|                null|               null|                null|                   null|  0.2475532210940423|\n",
      "|      314379|    40480602|3.3214280951889545|                null|               null|                null|                   null|  0.2475532210940423|\n",
      "|      314379|    40480602| 4.432821163079416|                null|               null|                null|                   null|  0.2475532210940423|\n",
      "|      314379|    40480602|2.7993549992402973|                null|               null|                null|                   null|  0.2475532210940423|\n",
      "|      314379|    40480602|3.8247778278397653|                null|               null|                null|                   null|  0.2475532210940423|\n",
      "|      314379|    40480602|3.8932916740714667|                null|               null|                null|                   null|  0.2475532210940423|\n",
      "|      314379|    40480602|3.8981183822204675|                null|               null|                null|                   null|  0.2475532210940423|\n",
      "|      314379|    40480602| 4.404965747374434|                null|               null|                null|                   null|  0.2475532210940423|\n",
      "|      314379|    40480602|3.8904388108192407|                null|               null|                null|                   null|  0.2475532210940423|\n",
      "+------------+------------+------------------+--------------------+-------------------+--------------------+-----------------------+--------------------+\n",
      "only showing top 500 rows\n",
      "\n"
     ]
    }
   ],
   "source": [
    "output_features.show(500)"
   ]
  },
  {
   "cell_type": "code",
   "execution_count": null,
   "metadata": {},
   "outputs": [],
   "source": [
    "output_features.repartition(1).write.option(\"header\", \"true\").mode(\"overwrite\").csv(\"similarity_measures.csv\")"
   ]
  },
  {
   "cell_type": "code",
   "execution_count": null,
   "metadata": {},
   "outputs": [],
   "source": []
  },
  {
   "cell_type": "code",
   "execution_count": null,
   "metadata": {},
   "outputs": [],
   "source": []
  },
  {
   "cell_type": "code",
   "execution_count": null,
   "metadata": {},
   "outputs": [],
   "source": [
    "ic_output = training_data.join(output_features, (training_data[\"concept_id_1\"] == output_features[\"concept_id_1\"]) \n",
    "                   & (training_data[\"concept_id_2\"] == output_features[\"concept_id_2\"]), \"left_outer\") \\\n",
    "    .select([training_data[field] for field in training_data.schema.fieldNames()] + [output_features[\"MICA\"] \\\n",
    "                                .alias(\"information_content_semantic_sim\"), output_features['lin_measure'], \\\n",
    "                                output_features['jiang_measure'], output_features['information_coefficient']])"
   ]
  },
  {
   "cell_type": "code",
   "execution_count": null,
   "metadata": {},
   "outputs": [],
   "source": [
    "#ic_output.repartition(1).write.option(\"header\", \"true\").mode(\"overwrite\").csv(\"PheML_refset_sample_semantic_sim_new.csv\")"
   ]
  },
  {
   "cell_type": "code",
   "execution_count": null,
   "metadata": {},
   "outputs": [],
   "source": []
  },
  {
   "cell_type": "code",
   "execution_count": null,
   "metadata": {},
   "outputs": [],
   "source": []
  },
  {
   "cell_type": "code",
   "execution_count": null,
   "metadata": {},
   "outputs": [],
   "source": []
  },
  {
   "cell_type": "code",
   "execution_count": null,
   "metadata": {},
   "outputs": [],
   "source": []
  },
  {
   "cell_type": "code",
   "execution_count": null,
   "metadata": {},
   "outputs": [],
   "source": []
  }
 ],
 "metadata": {
  "kernelspec": {
   "display_name": "Python 3",
   "language": "python",
   "name": "python3"
  },
  "language_info": {
   "codemirror_mode": {
    "name": "ipython",
    "version": 3
   },
   "file_extension": ".py",
   "mimetype": "text/x-python",
   "name": "python",
   "nbconvert_exporter": "python",
   "pygments_lexer": "ipython3",
   "version": "3.7.2"
  }
 },
 "nbformat": 4,
 "nbformat_minor": 2
}
