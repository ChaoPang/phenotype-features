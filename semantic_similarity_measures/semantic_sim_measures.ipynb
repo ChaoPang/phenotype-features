{
 "cells": [
  {
   "cell_type": "code",
   "execution_count": 1,
   "metadata": {},
   "outputs": [],
   "source": [
    "from pyspark.sql.functions import *\n",
    "from pyspark.sql.types import IntegerType"
   ]
  },
  {
   "cell_type": "code",
   "execution_count": 2,
   "metadata": {},
   "outputs": [],
   "source": [
    "concept_frequency_df = spark.read.option(\"header\", \"true\").option(\"delimiter\", \",\").option(\"inferschema\", \"true\") \\\n",
    "                            .csv(\"concept_id_frequency\").select(col(\"standard_concept_id\").alias(\"standard_concept_id\"), col(\"count\").alias(\"freq_count\"))"
   ]
  },
  {
   "cell_type": "code",
   "execution_count": 3,
   "metadata": {},
   "outputs": [
    {
     "name": "stdout",
     "output_type": "stream",
     "text": [
      "+-------------------+----------+\n",
      "|standard_concept_id|freq_count|\n",
      "+-------------------+----------+\n",
      "|             432807|     17680|\n",
      "|              80502|     72686|\n",
      "|             433911|      1278|\n",
      "|             436972|       204|\n",
      "|             139188|     16310|\n",
      "|           46272452|      2717|\n",
      "|             436176|     10562|\n",
      "|             141372|      1776|\n",
      "|             437469|       240|\n",
      "|           40480500|      1851|\n",
      "|             434354|        38|\n",
      "|             440069|      5396|\n",
      "|             438555|      3333|\n",
      "|            4134565|     58876|\n",
      "|             441223|        63|\n",
      "|             432312|      6259|\n",
      "|            4120275|      8477|\n",
      "|             200562|       174|\n",
      "|             444455|      1423|\n",
      "|             319041|     10366|\n",
      "+-------------------+----------+\n",
      "only showing top 20 rows\n",
      "\n"
     ]
    }
   ],
   "source": [
    "concept_frequency_df.show()"
   ]
  },
  {
   "cell_type": "code",
   "execution_count": 4,
   "metadata": {},
   "outputs": [
    {
     "data": {
      "text/plain": [
       "197752964"
      ]
     },
     "execution_count": 4,
     "metadata": {},
     "output_type": "execute_result"
    }
   ],
   "source": [
    "total_sum = concept_frequency_df.groupBy().agg(sum(\"freq_count\")).collect()[0][0]\n",
    "total_sum"
   ]
  },
  {
   "cell_type": "code",
   "execution_count": 5,
   "metadata": {},
   "outputs": [],
   "source": [
    "concept_ancestor = spark.read.option(\"header\", \"true\").option(\"delimiter\", \",\").csv(\"concept_ancestor.csv\").filter(col('min_levels_of_separation') >= 1)"
   ]
  },
  {
   "cell_type": "code",
   "execution_count": 6,
   "metadata": {},
   "outputs": [
    {
     "name": "stdout",
     "output_type": "stream",
     "text": [
      "root\n",
      " |-- ancestor_concept_id: string (nullable = true)\n",
      " |-- descendant_concept_id: string (nullable = true)\n",
      " |-- min_levels_of_separation: string (nullable = true)\n",
      " |-- max_levels_of_separation: string (nullable = true)\n",
      "\n"
     ]
    }
   ],
   "source": [
    "concept_ancestor.printSchema()"
   ]
  },
  {
   "cell_type": "code",
   "execution_count": 7,
   "metadata": {},
   "outputs": [],
   "source": [
    "# left join b/w descendent_concept_id and the standard_concept_id in the concept freq table\n",
    "freq_df = concept_ancestor.join(concept_frequency_df, concept_ancestor['descendant_concept_id'] == concept_frequency_df['standard_concept_id'], 'left_outer') \\\n",
    "                        .where(col('standard_concept_id').isNotNull()).groupBy('ancestor_concept_id').sum(\"freq_count\") \\\n",
    "                        .withColumnRenamed('ancestor_concept_id', 'concept_id')"
   ]
  },
  {
   "cell_type": "code",
   "execution_count": 8,
   "metadata": {},
   "outputs": [
    {
     "name": "stdout",
     "output_type": "stream",
     "text": [
      "root\n",
      " |-- concept_id: string (nullable = true)\n",
      " |-- sum(freq_count): long (nullable = true)\n",
      "\n"
     ]
    }
   ],
   "source": [
    "freq_df.printSchema()"
   ]
  },
  {
   "cell_type": "code",
   "execution_count": 9,
   "metadata": {},
   "outputs": [],
   "source": [
    "information_content_table = freq_df.orderBy(col('sum(freq_count)').desc()).withColumn(\"Information_content\", (-log(col('sum(freq_count)') / total_sum))) \\\n",
    "                                                                        .withColumn(\"Probability\", col('sum(freq_count)') / total_sum)"
   ]
  },
  {
   "cell_type": "code",
   "execution_count": 10,
   "metadata": {},
   "outputs": [
    {
     "name": "stdout",
     "output_type": "stream",
     "text": [
      "+----------+---------------+-------------------+-------------------+\n",
      "|concept_id|sum(freq_count)|Information_content|        Probability|\n",
      "+----------+---------------+-------------------+-------------------+\n",
      "|  36206173|       79967894| 0.9053933660359812|0.40438278335995004|\n",
      "|  45876249|       67245415|  1.078669757438401| 0.3400475706649838|\n",
      "|  36300000|       63437173| 1.1369685806144145| 0.3207899983739308|\n",
      "|  36302170|       63278962|  1.139465675119548| 0.3199899547396923|\n",
      "|  36303153|       63071493|  1.142749702651699| 0.3189408225507052|\n",
      "|  36208195|       61776154| 1.1635011627611662|0.31239053387842014|\n",
      "|    441840|       41086928| 1.5713285777729744|0.20776896168292072|\n",
      "|  36313966|       41083055| 1.5714228457735622|0.20774937664145454|\n",
      "|  45876033|       35653536| 1.7131702666800224|0.18029330776554126|\n",
      "|  40772935|       35368172| 1.7212062754921829|0.17885027503304576|\n",
      "|  45876002|       33697134| 1.7696058059259916|0.17040014631588532|\n",
      "|  40796128|       33305379|  1.781299679684316|0.16841911406192628|\n",
      "|  45876037|       32082573| 1.8187056096397658| 0.1622356112953129|\n",
      "|   3050940|       31844770| 1.8261454338440921|0.16103308570383804|\n",
      "|   4322976|       31090075| 1.8501299587384414|0.15721673329761066|\n",
      "|   4042140|       29127549| 1.9153341677878546| 0.1472926039176839|\n",
      "|   4274025|       29089313| 1.9166477392922043|0.14709925156924575|\n",
      "|  40792793|       28987961| 1.9201379892955994|0.14658673333462652|\n",
      "|  40779561|       28308659| 1.9438508655765958| 0.1431516293227342|\n",
      "|   4029205|       27561634| 1.9705938619451044|0.13937406268155858|\n",
      "+----------+---------------+-------------------+-------------------+\n",
      "only showing top 20 rows\n",
      "\n"
     ]
    }
   ],
   "source": [
    "information_content_table.show()"
   ]
  },
  {
   "cell_type": "code",
   "execution_count": 11,
   "metadata": {},
   "outputs": [],
   "source": [
    "training_data = spark.read.option(\"header\", \"true\").option(\"delimiter\", \",\").csv(\"PheML_refset_sample_semantic_sim.csv\") \\\n",
    "                        "
   ]
  },
  {
   "cell_type": "code",
   "execution_count": 12,
   "metadata": {},
   "outputs": [],
   "source": [
    "common_anc_ic_df = training_data.join(concept_ancestor, col('concept_id_1') == concept_ancestor['descendant_concept_id']) \\\n",
    "                            .select(col('ancestor_concept_id').alias('ancestor_concept_id_1'), col('concept_id_1'), col('concept_id_2')) \\\n",
    "                        .join(concept_ancestor, col('concept_id_2') == col('descendant_concept_id')) \\\n",
    "                            .select(col('ancestor_concept_id_1'), col('concept_id_1'), col('ancestor_concept_id').alias('ancestor_concept_id_2'),  col('concept_id_2')) \\\n",
    "                        .filter(col(\"ancestor_concept_id_1\") == col(\"ancestor_concept_id_2\")) \\\n",
    "                        .join(information_content_table, col('ancestor_concept_id_1') == col('concept_id')) \\\n",
    "                            .select(col('concept_id').alias(\"ancestor_concept_id\"), col('concept_id_1'), col('concept_id_2'), col('sum(freq_count)'), col('Information_content') , col('Probability'))\n"
   ]
  },
  {
   "cell_type": "code",
   "execution_count": 13,
   "metadata": {},
   "outputs": [
    {
     "name": "stdout",
     "output_type": "stream",
     "text": [
      "root\n",
      " |-- ancestor_concept_id: string (nullable = true)\n",
      " |-- concept_id_1: string (nullable = true)\n",
      " |-- concept_id_2: string (nullable = true)\n",
      " |-- sum(freq_count): long (nullable = true)\n",
      " |-- Information_content: double (nullable = true)\n",
      " |-- Probability: double (nullable = true)\n",
      "\n"
     ]
    }
   ],
   "source": [
    "common_anc_ic_df.printSchema()"
   ]
  },
  {
   "cell_type": "code",
   "execution_count": 14,
   "metadata": {},
   "outputs": [],
   "source": [
    "intersection_sum = common_anc_ic_df.groupBy(col('concept_id_1'), col('concept_id_2')).agg(sum('Information_content')).withColumnRenamed(\"sum(Information_content)\", \"intersection\")\n"
   ]
  },
  {
   "cell_type": "code",
   "execution_count": 15,
   "metadata": {},
   "outputs": [
    {
     "data": {
      "text/plain": [
       "DataFrame[concept_id_1: string, concept_id_2: string, intersection: double]"
      ]
     },
     "execution_count": 15,
     "metadata": {},
     "output_type": "execute_result"
    }
   ],
   "source": [
    "intersection_sum.cache()"
   ]
  },
  {
   "cell_type": "code",
   "execution_count": 16,
   "metadata": {},
   "outputs": [
    {
     "name": "stdout",
     "output_type": "stream",
     "text": [
      "+------------+------------+------------------+\n",
      "|concept_id_1|concept_id_2|      intersection|\n",
      "+------------+------------+------------------+\n",
      "|      439693|      444406|242.75858959714952|\n",
      "|     2107095|     2107311|234.47858167750567|\n",
      "|     2107197|     2107377|306.38383127697455|\n",
      "|     2107269|     2107376| 236.6172790106602|\n",
      "|       77317|      317009|19.046500499155663|\n",
      "|       75621|      200687|14.740421150960398|\n",
      "|      317576|      133295|  22.6606571715489|\n",
      "|      372607|      133295|16.888421529388474|\n",
      "|      200616|      432919|16.888421529388474|\n",
      "|       75622|      374906|17.584764764528867|\n",
      "|       80182|      378726|16.888421529388474|\n",
      "|       77317|      444406| 26.08511730970354|\n",
      "|       30683|      374919|14.740421150960398|\n",
      "|       81893|      201343| 74.09265246814918|\n",
      "|      133295|       26942|17.584764764528867|\n",
      "|       75621|      320299|14.740421150960398|\n",
      "|      194077|       75621| 42.88080735446119|\n",
      "|      315296|      135215|16.888421529388474|\n",
      "|      443412|      314666|14.740421150960398|\n",
      "|      140062|       80495|14.740421150960398|\n",
      "+------------+------------+------------------+\n",
      "only showing top 20 rows\n",
      "\n"
     ]
    }
   ],
   "source": [
    "intersection_sum.show()"
   ]
  },
  {
   "cell_type": "code",
   "execution_count": 17,
   "metadata": {},
   "outputs": [],
   "source": [
    "temp_df = training_data.select(col('concept_id_1'), col('concept_id_2'))"
   ]
  },
  {
   "cell_type": "code",
   "execution_count": 21,
   "metadata": {},
   "outputs": [],
   "source": [
    "unioned_sum = temp_df.join(concept_ancestor, col('concept_id_1') == concept_ancestor['descendant_concept_id']) \\\n",
    "                .select(col('concept_id_1'), col('concept_id_2'), concept_ancestor['ancestor_concept_id']) \\\n",
    "                .union(temp_df.join(concept_ancestor, col('concept_id_2') == concept_ancestor['descendant_concept_id']) \\\n",
    "                .select(col('concept_id_1'), col('concept_id_2'), concept_ancestor['ancestor_concept_id'])) \\\n",
    "                .join(information_content_table, col('ancestor_concept_id') == information_content_table['concept_id']) \\\n",
    "                .select(col('concept_id_1'), col('concept_id_2'), col('ancestor_concept_id'), information_content_table['Information_content']) \\\n",
    "                .groupBy(col('concept_id_1'), col('concept_id_2')).agg(sum(col('Information_content')))"
   ]
  },
  {
   "cell_type": "code",
   "execution_count": 22,
   "metadata": {},
   "outputs": [
    {
     "data": {
      "text/plain": [
       "DataFrame[concept_id_1: string, concept_id_2: string, sum(Information_content): double]"
      ]
     },
     "execution_count": 22,
     "metadata": {},
     "output_type": "execute_result"
    }
   ],
   "source": [
    "unioned_sum.cache()"
   ]
  },
  {
   "cell_type": "code",
   "execution_count": 23,
   "metadata": {},
   "outputs": [
    {
     "name": "stdout",
     "output_type": "stream",
     "text": [
      "+------------+------------+------------------------+\n",
      "|concept_id_1|concept_id_2|sum(Information_content)|\n",
      "+------------+------------+------------------------+\n",
      "|     1101922|       81064|       943.2003673510263|\n",
      "|     1592300|       81945|       563.4659735737604|\n",
      "|     1592300|      374906|       826.2704875041296|\n",
      "|     1592300|       73291|       671.3713985937106|\n",
      "|     2107098|     2107970|       899.4218240873519|\n",
      "|     2107410|     2107875|      1027.6055926137956|\n",
      "|     2107499|     2107411|       842.7117139265118|\n",
      "|     2107375|     2107410|        927.275250862684|\n",
      "|       77317|      317009|       782.0803151175878|\n",
      "|       77317|      444406|      1005.1918825638887|\n",
      "|      315286|     1502827|       802.8984054544221|\n",
      "|     2107891|     2107339|       887.9757967273947|\n",
      "|     2107453|     2107339|       731.6786671448638|\n",
      "|     2106709|     2107339|        689.370479990665|\n",
      "|     2107153|     2107339|       712.7850203561471|\n",
      "|     2107878|     2107339|        933.431516313885|\n",
      "|       80813|      321263|       771.9962521664914|\n",
      "|       80813|     1592628|       671.9865519736738|\n",
      "|     1525217|       80813|      1180.7473278543807|\n",
      "|      195575|       80813|       520.2599056030357|\n",
      "+------------+------------+------------------------+\n",
      "only showing top 20 rows\n",
      "\n"
     ]
    }
   ],
   "source": [
    "unioned_sum.show()"
   ]
  },
  {
   "cell_type": "code",
   "execution_count": 28,
   "metadata": {},
   "outputs": [],
   "source": [
    "graph_ic_measure_df = unioned_sum.join(intersection_sum, (unioned_sum['concept_id_1'] == intersection_sum['concept_id_1']) & (unioned_sum['concept_id_2'] == intersection_sum['concept_id_2'])) \\\n",
    "                                    .select(unioned_sum['concept_id_1'], unioned_sum['concept_id_2'], unioned_sum['sum(Information_content)'].alias('Union_sum'), intersection_sum['intersection'].alias('intersection_sum'))"
   ]
  },
  {
   "cell_type": "code",
   "execution_count": 29,
   "metadata": {},
   "outputs": [],
   "source": [
    "graph_ic_measure = graph_ic_measure_df.withColumn('graph_ic_measure', (col('intersection_sum') / col('Union_sum')))"
   ]
  },
  {
   "cell_type": "code",
   "execution_count": 30,
   "metadata": {},
   "outputs": [
    {
     "data": {
      "text/plain": [
       "DataFrame[concept_id_1: string, concept_id_2: string, Union_sum: double, intersection_sum: double, graph_ic_measure: double]"
      ]
     },
     "execution_count": 30,
     "metadata": {},
     "output_type": "execute_result"
    }
   ],
   "source": [
    "graph_ic_measure.cache()"
   ]
  },
  {
   "cell_type": "code",
   "execution_count": 31,
   "metadata": {},
   "outputs": [
    {
     "name": "stdout",
     "output_type": "stream",
     "text": [
      "+------------+------------+------------------+------------------+--------------------+\n",
      "|concept_id_1|concept_id_2|         Union_sum|  intersection_sum|    graph_ic_measure|\n",
      "+------------+------------+------------------+------------------+--------------------+\n",
      "|     2107098|     2107970| 899.4218240873519| 62.21519370256184| 0.06917243059527929|\n",
      "|     2107410|     2107875|1027.6055926137956| 207.7275498714375| 0.20214715778557235|\n",
      "|     2107499|     2107411| 842.7117139265118|206.14805807273237| 0.24462465000303696|\n",
      "|     2107375|     2107410|  927.275250862684| 284.7800194058572| 0.30711487138356613|\n",
      "|       77317|      317009| 782.0803151175878|19.046500499155663|0.024353637511374995|\n",
      "|       77317|      444406|1005.1918825638887| 26.08511730970354| 0.02595038595334618|\n",
      "|     2107891|     2107339| 887.9757967273947| 59.78206313694599| 0.06732397815038518|\n",
      "|     2107453|     2107339| 731.6786671448638|  71.7197318781182| 0.09802080489510641|\n",
      "|     2106709|     2107339|  689.370479990665| 86.75375745006043| 0.12584489758139222|\n",
      "|     2107153|     2107339| 712.7850203561471| 152.8473024745211| 0.21443674896275183|\n",
      "|     2107878|     2107339|  933.431516313885| 59.78206313694599| 0.06404547317303466|\n",
      "|       80813|      321263| 771.9962521664914|17.584764764528867|  0.0227783032821466|\n",
      "|      195575|       80813| 520.2599056030357| 21.19450087758374| 0.04073829378225311|\n",
      "|      312327|      443726| 638.8814272577072|14.740421150960398|0.023072233002970857|\n",
      "|      436706|      432554|403.07776591799876| 8.478583121224403|0.021034608797919328|\n",
      "|      438438|       81400| 727.4133643670556|14.740421150960398| 0.02026416048017826|\n",
      "|      439693|      444406| 547.6840490211172|242.75858959714952|  0.4432456815768783|\n",
      "|       81400|      312327| 678.2474414646156|14.740421150960398|0.021733102478248584|\n",
      "|      316427|      438170|  607.297204644083| 141.7372862484072| 0.23339031558934112|\n",
      "|      437169|      438170| 451.2820687083703| 18.38232933106777|0.040733569103865476|\n",
      "+------------+------------+------------------+------------------+--------------------+\n",
      "only showing top 20 rows\n",
      "\n"
     ]
    }
   ],
   "source": [
    "graph_ic_measure.show()"
   ]
  },
  {
   "cell_type": "code",
   "execution_count": null,
   "metadata": {},
   "outputs": [],
   "source": []
  },
  {
   "cell_type": "code",
   "execution_count": null,
   "metadata": {},
   "outputs": [],
   "source": []
  },
  {
   "cell_type": "code",
   "execution_count": 32,
   "metadata": {},
   "outputs": [],
   "source": [
    "max_ic_df = common_anc_ic_df.groupBy(\"ancestor_concept_id\", \"concept_id_1\", \"concept_id_2\").agg(max(\"Information_content\"), max(\"Probability\")) \\\n",
    "                            .withColumnRenamed(\"max(Information_content)\", \"information_content\").withColumnRenamed(\"max(Probability)\", \"MICA_probability\")"
   ]
  },
  {
   "cell_type": "code",
   "execution_count": 33,
   "metadata": {},
   "outputs": [
    {
     "name": "stdout",
     "output_type": "stream",
     "text": [
      "root\n",
      " |-- ancestor_concept_id: string (nullable = true)\n",
      " |-- concept_id_1: string (nullable = true)\n",
      " |-- concept_id_2: string (nullable = true)\n",
      " |-- information_content: double (nullable = true)\n",
      " |-- MICA_probability: double (nullable = true)\n",
      "\n"
     ]
    }
   ],
   "source": [
    "max_ic_df.printSchema()"
   ]
  },
  {
   "cell_type": "code",
   "execution_count": 34,
   "metadata": {},
   "outputs": [],
   "source": [
    "lin_sim_df = max_ic_df.join(information_content_table, max_ic_df['concept_id_1'] == information_content_table['concept_id']) \\\n",
    "                            .select(col('concept_id_1'), col('concept_id_2'), max_ic_df['information_content'].alias('MICA'), information_content_table['Information_content'].alias('information_content_1'), col('MICA_probability')) \\\n",
    "                        .join(information_content_table, max_ic_df['concept_id_2'] == information_content_table['concept_id']) \\\n",
    "                            .select(col('concept_id_1'), col('concept_id_2'), col('MICA'), col('information_content_1'), col('MICA_probability'), information_content_table['Information_content'].alias('information_content_2'))\n"
   ]
  },
  {
   "cell_type": "code",
   "execution_count": 35,
   "metadata": {},
   "outputs": [
    {
     "name": "stdout",
     "output_type": "stream",
     "text": [
      "root\n",
      " |-- concept_id_1: string (nullable = true)\n",
      " |-- concept_id_2: string (nullable = true)\n",
      " |-- MICA: double (nullable = true)\n",
      " |-- information_content_1: double (nullable = true)\n",
      " |-- MICA_probability: double (nullable = true)\n",
      " |-- information_content_2: double (nullable = true)\n",
      "\n"
     ]
    }
   ],
   "source": [
    "lin_sim_df.printSchema()"
   ]
  },
  {
   "cell_type": "code",
   "execution_count": 36,
   "metadata": {},
   "outputs": [],
   "source": [
    "lin_sim_df = lin_sim_df.withColumn('lin_measure', ((2 * col('MICA')) / (col('information_content_1') * col('information_content_2'))))"
   ]
  },
  {
   "cell_type": "code",
   "execution_count": 37,
   "metadata": {},
   "outputs": [],
   "source": [
    "jiang_cornath_measure = lin_sim_df.withColumn('jiang_measure', (1 - (col('information_content_1') + col('information_content_2') - 2 * col('MICA'))))"
   ]
  },
  {
   "cell_type": "code",
   "execution_count": 38,
   "metadata": {},
   "outputs": [
    {
     "name": "stdout",
     "output_type": "stream",
     "text": [
      "root\n",
      " |-- concept_id_1: string (nullable = true)\n",
      " |-- concept_id_2: string (nullable = true)\n",
      " |-- MICA: double (nullable = true)\n",
      " |-- information_content_1: double (nullable = true)\n",
      " |-- MICA_probability: double (nullable = true)\n",
      " |-- information_content_2: double (nullable = true)\n",
      " |-- lin_measure: double (nullable = true)\n",
      " |-- jiang_measure: double (nullable = true)\n",
      "\n"
     ]
    }
   ],
   "source": [
    "jiang_cornath_measure.printSchema()"
   ]
  },
  {
   "cell_type": "code",
   "execution_count": 39,
   "metadata": {},
   "outputs": [],
   "source": [
    "information_coefficient = jiang_cornath_measure.withColumn('information_coefficient', (col('lin_measure') * (1 - ((1)/(1 + col('MICA'))))))"
   ]
  },
  {
   "cell_type": "code",
   "execution_count": 40,
   "metadata": {},
   "outputs": [],
   "source": [
    "relevence_measure = information_coefficient.withColumn('relevance_measure', (col('lin_measure') * (1 - col('MICA_probability'))))"
   ]
  },
  {
   "cell_type": "code",
   "execution_count": 41,
   "metadata": {},
   "outputs": [],
   "source": [
    "output_features = relevence_measure.select(col('concept_id_1'), col('concept_id_2'), col('MICA'), col('lin_measure'), \\\n",
    "                                                  col('jiang_measure'), col('relevance_measure'), col('information_coefficient'))"
   ]
  },
  {
   "cell_type": "code",
   "execution_count": null,
   "metadata": {},
   "outputs": [],
   "source": []
  },
  {
   "cell_type": "code",
   "execution_count": 42,
   "metadata": {},
   "outputs": [],
   "source": [
    "output_features = output_features.join(graph_ic_measure, (output_features['concept_id_1'] == graph_ic_measure['concept_id_1']) & (output_features['concept_id_2'] == graph_ic_measure['concept_id_2'])) \\\n",
    "                        .select([output_features[field] for field in output_features.schema.fieldNames()] + [graph_ic_measure[\"graph_ic_measure\"]])"
   ]
  },
  {
   "cell_type": "code",
   "execution_count": null,
   "metadata": {},
   "outputs": [],
   "source": []
  },
  {
   "cell_type": "code",
   "execution_count": 43,
   "metadata": {},
   "outputs": [
    {
     "data": {
      "text/plain": [
       "DataFrame[concept_id_1: string, concept_id_2: string, MICA: double, lin_measure: double, jiang_measure: double, relevance_measure: double, information_coefficient: double, graph_ic_measure: double]"
      ]
     },
     "execution_count": 43,
     "metadata": {},
     "output_type": "execute_result"
    }
   ],
   "source": [
    "output_features.cache()"
   ]
  },
  {
   "cell_type": "code",
   "execution_count": 44,
   "metadata": {},
   "outputs": [
    {
     "name": "stdout",
     "output_type": "stream",
     "text": [
      "+------------+------------+------------------+--------------------+-------------------+--------------------+-----------------------+-------------------+\n",
      "|concept_id_1|concept_id_2|              MICA|         lin_measure|      jiang_measure|   relevance_measure|information_coefficient|   graph_ic_measure|\n",
      "+------------+------------+------------------+--------------------+-------------------+--------------------+-----------------------+-------------------+\n",
      "|      443344|      314665|3.3614508133174006| 0.04397821382847052|  -17.0138800581896| 0.04245283383095776|   0.033894822839814646|0.05145749343665868|\n",
      "|      443344|      314665| 1.142749702651699|0.014950714309587061|-21.451282279521003|0.010182321189966766|   0.007973364462759302|0.05145749343665868|\n",
      "|      443344|      314665|2.1319522132688857|0.027892554588561498| -19.47287725828663|0.024584343524288666|   0.018986749937267202|0.05145749343665868|\n",
      "|      443344|      314665|1.1369685806144145|0.014875079283152369| -21.46284452359557|0.010103302624097829|   0.007914247281179025|0.05145749343665868|\n",
      "|      443344|      314665|1.5713285777729744| 0.02055785671898251|-20.594124529278453|0.016286572174053257|   0.012562823763378037|0.05145749343665868|\n",
      "|      443344|      314665|1.5714228457735622|0.020559090037129128|-20.593935993277277|0.016287951897600014|   0.012563870553518946|0.05145749343665868|\n",
      "|      443344|      314665| 1.139465675119548|0.014907749032672897|-21.457850334585306|0.010137419094437206|   0.007939771370755097|0.05145749343665868|\n",
      "|      443344|      314665|1.9153341677878546|0.025058517962016753| -19.90611334924869|0.021367583601073253|    0.01646309921417864|0.05145749343665868|\n",
      "|      443344|      314665|1.9166477392922043|0.025075703555888427|-19.903486206239993|0.021387086330244966|    0.01647826368748195|0.05145749343665868|\n",
      "|      443344|      314665|2.2145516486792562|0.028973211672162623|-19.307678387465888| 0.02580926555762121|   0.019960069300016675|0.05145749343665868|\n",
      "|      435243|      314665| 1.139465675119548|0.019678184179012865|-18.379738606974325| 0.01338136291421121|   0.010480474485487027|0.02771491962739498|\n",
      "|      435243|      314665|1.5713285777729744|0.027136309442510272|-17.516012801667472|0.021498226605733476|   0.016582889830142798|0.02771491962739498|\n",
      "|      435243|      314665|1.9166477392922043| 0.03309985376797209|-16.825374478629012|0.028230890051651913|   0.021751258830688174|0.02771491962739498|\n",
      "|      435243|      314665|1.5714228457735622|0.027137937418778672|-17.515824265666296|  0.0215000478366926|   0.016584271590001004|0.02771491962739498|\n",
      "|      435243|      314665| 1.142749702651699|    0.01973489821616| -18.37317055191002|0.013440633546143485|   0.010524817266556956|0.02771491962739498|\n",
      "|      435243|      314665|1.1369685806144145|0.019635060207262453| -18.38473279598459|0.013336329275302697|   0.010446782763512184|0.02771491962739498|\n",
      "|      435216|      314665| 1.139465675119548| 0.01948855150316797| -18.47333779227367|0.013252410789727088|   0.010379477340489945|0.03508421283422689|\n",
      "|      435216|      314665|1.9166477392922043| 0.03278088054447773| -16.91897366392836| 0.02795883755060421|   0.021541648564947422|0.03508421283422689|\n",
      "|      435216|      314665|1.1369685806144145| 0.01944584310401723|-18.478331981283937|0.013207811126299828|    0.01034611029539249|0.03508421283422689|\n",
      "|      435216|      314665|1.5713285777729744|0.026874805081877923| -17.60961198696682|0.021291054734585268|   0.016423085564509138|0.03508421283422689|\n",
      "+------------+------------+------------------+--------------------+-------------------+--------------------+-----------------------+-------------------+\n",
      "only showing top 20 rows\n",
      "\n"
     ]
    }
   ],
   "source": [
    "output_features.show()"
   ]
  },
  {
   "cell_type": "code",
   "execution_count": 45,
   "metadata": {},
   "outputs": [],
   "source": [
    "output_features.repartition(1).write.option(\"header\", \"true\").mode(\"overwrite\").csv(\"similarity_measures.csv\")"
   ]
  },
  {
   "cell_type": "code",
   "execution_count": null,
   "metadata": {},
   "outputs": [],
   "source": []
  },
  {
   "cell_type": "code",
   "execution_count": null,
   "metadata": {},
   "outputs": [],
   "source": []
  },
  {
   "cell_type": "code",
   "execution_count": 47,
   "metadata": {},
   "outputs": [],
   "source": [
    "ic_output = training_data.join(output_features, (training_data[\"concept_id_1\"] == output_features[\"concept_id_1\"]) \n",
    "                   & (training_data[\"concept_id_2\"] == output_features[\"concept_id_2\"]), \"left_outer\") \\\n",
    "    .select([training_data[field] for field in training_data.schema.fieldNames()] + [output_features[\"MICA\"] \\\n",
    "                                .alias(\"information_content_semantic_sim\"), output_features['lin_measure'], \\\n",
    "                                output_features['jiang_measure'], output_features['information_coefficient']])"
   ]
  },
  {
   "cell_type": "code",
   "execution_count": null,
   "metadata": {},
   "outputs": [],
   "source": [
    "#ic_output.repartition(1).write.option(\"header\", \"true\").mode(\"overwrite\").csv(\"PheML_refset_sample_semantic_sim_new.csv\")"
   ]
  },
  {
   "cell_type": "code",
   "execution_count": null,
   "metadata": {},
   "outputs": [],
   "source": []
  },
  {
   "cell_type": "code",
   "execution_count": null,
   "metadata": {},
   "outputs": [],
   "source": []
  },
  {
   "cell_type": "code",
   "execution_count": null,
   "metadata": {},
   "outputs": [],
   "source": []
  },
  {
   "cell_type": "code",
   "execution_count": null,
   "metadata": {},
   "outputs": [],
   "source": []
  },
  {
   "cell_type": "code",
   "execution_count": null,
   "metadata": {},
   "outputs": [],
   "source": []
  }
 ],
 "metadata": {
  "kernelspec": {
   "display_name": "Python 3",
   "language": "python",
   "name": "python3"
  },
  "language_info": {
   "codemirror_mode": {
    "name": "ipython",
    "version": 3
   },
   "file_extension": ".py",
   "mimetype": "text/x-python",
   "name": "python",
   "nbconvert_exporter": "python",
   "pygments_lexer": "ipython3",
   "version": "3.7.2"
  }
 },
 "nbformat": 4,
 "nbformat_minor": 2
}
